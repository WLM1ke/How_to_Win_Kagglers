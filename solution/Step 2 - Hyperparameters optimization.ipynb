{
 "cells": [
  {
   "cell_type": "markdown",
   "metadata": {},
   "source": [
    "# Project name: [Predict Future Sales](https://www.kaggle.com/c/competitive-data-science-predict-future-sales)"
   ]
  },
  {
   "cell_type": "markdown",
   "metadata": {},
   "source": [
    "# Objective"
   ]
  },
  {
   "cell_type": "markdown",
   "metadata": {},
   "source": [
    "Optimize hyperparameters to get 0.923 score on [Public Leaderboard](https://www.kaggle.com/c/competitive-data-science-predict-future-sales/leaderboard)"
   ]
  },
  {
   "cell_type": "markdown",
   "metadata": {},
   "source": [
    "# Version"
   ]
  },
  {
   "cell_type": "code",
   "execution_count": 1,
   "metadata": {},
   "outputs": [],
   "source": [
    "__ver__ = \"0.6\""
   ]
  },
  {
   "cell_type": "markdown",
   "metadata": {},
   "source": [
    "# Setup"
   ]
  },
  {
   "cell_type": "code",
   "execution_count": 2,
   "metadata": {},
   "outputs": [],
   "source": [
    "import numpy as np\n",
    "import pandas as pd\n",
    "import catboost\n",
    "import sklearn\n",
    "import hyperopt\n",
    "from hyperopt import hp\n",
    "from sklearn import preprocessing\n",
    "from sklearn.cluster import KMeans\n",
    "import matplotlib.pyplot as plt\n",
    "import statsmodels as sm\n",
    "from pmdarima import arima\n",
    "%matplotlib inline \n",
    "\n",
    "import itertools\n",
    "import warnings\n",
    "import sys\n",
    "\n",
    "warnings.filterwarnings('ignore')"
   ]
  },
  {
   "cell_type": "markdown",
   "metadata": {},
   "source": [
    "# Load processed data"
   ]
  },
  {
   "cell_type": "code",
   "execution_count": 3,
   "metadata": {},
   "outputs": [],
   "source": [
    "# load and save ID in index\n",
    "test_path = \"./raw_data/test.csv.gz\"\n",
    "test = pd.read_csv(test_path).set_index('ID')"
   ]
  },
  {
   "cell_type": "code",
   "execution_count": 4,
   "metadata": {},
   "outputs": [],
   "source": [
    "processed_path = f\"./processed_data/data_0.5.pickle\"\n",
    "data = pd.read_pickle(processed_path)"
   ]
  },
  {
   "cell_type": "code",
   "execution_count": 5,
   "metadata": {},
   "outputs": [],
   "source": [
    "# drop data with NaN in lags\n",
    "data.dropna(subset=list(set(data.columns) - set(\"y\")), inplace=True)"
   ]
  },
  {
   "cell_type": "code",
   "execution_count": 6,
   "metadata": {},
   "outputs": [],
   "source": [
    "# Drop bad features\n",
    "data.drop([\"city\", \"not_sold_before\", \"price_discount_1\"], axis=1, inplace=True)"
   ]
  },
  {
   "cell_type": "code",
   "execution_count": 7,
   "metadata": {},
   "outputs": [
    {
     "name": "stdout",
     "output_type": "stream",
     "text": [
      "<class 'pandas.core.frame.DataFrame'>\n",
      "Int64Index: 4712400 entries, 2784600 to 7496999\n",
      "Data columns (total 31 columns):\n",
      "date_block_num         int8\n",
      "shop_id                int8\n",
      "item_id                int16\n",
      "y                      float32\n",
      "item_category_id       int8\n",
      "category_group         int8\n",
      "sub_category           int8\n",
      "month                  int8\n",
      "y_1                    float32\n",
      "y_2                    float32\n",
      "y_3                    float32\n",
      "y_4                    float32\n",
      "diff_y1_y2             float32\n",
      "diff_y1_y13            float32\n",
      "item_sold              bool\n",
      "new_item               bool\n",
      "item_cluster_21        int8\n",
      "item_date_y_1          float32\n",
      "item_date_y_2          float32\n",
      "item_date_y_3          float32\n",
      "shop_date_y_1          float32\n",
      "shop_date_y_2          float32\n",
      "shop_date_y_12         float32\n",
      "shop_cat_date_y_1      float32\n",
      "shop_cat_date_y_2      float32\n",
      "shop_cat_date_y_3      float32\n",
      "cat_date_y_1           float32\n",
      "cat_date_y_2           float32\n",
      "cat_date_y_3           float32\n",
      "cummean_shop_item_y    float32\n",
      "price_growth_1_6       float32\n",
      "dtypes: bool(2), float32(21), int16(1), int8(7)\n",
      "memory usage: 462.9 MB\n"
     ]
    }
   ],
   "source": [
    "data.info()"
   ]
  },
  {
   "cell_type": "markdown",
   "metadata": {},
   "source": [
    "# Validation strategies"
   ]
  },
  {
   "cell_type": "markdown",
   "metadata": {},
   "source": [
    "Validation strategy:\n",
    "\n",
    "* Train - all months except last one in the training set\n",
    "* Validate - a last month in the training set\n",
    "* Test - a test set"
   ]
  },
  {
   "cell_type": "code",
   "execution_count": 8,
   "metadata": {},
   "outputs": [],
   "source": [
    "val_range = 1\n",
    "test_date_block = data.date_block_num.max()\n",
    "\n",
    "x_train = data[data.date_block_num < test_date_block - val_range].drop(\"y\", axis=1)\n",
    "y_train = data.loc[data.date_block_num < test_date_block - val_range, \"y\"]\n",
    "\n",
    "mask = (test_date_block - val_range <= data.date_block_num) & (data.date_block_num < test_date_block)\n",
    "x_valid = data[mask].drop(\"y\", axis=1)\n",
    "y_valid = data.loc[mask, \"y\"]\n",
    "\n",
    "x_test = data[data.date_block_num == test_date_block].drop(\"y\", axis=1)"
   ]
  },
  {
   "cell_type": "code",
   "execution_count": 9,
   "metadata": {},
   "outputs": [
    {
     "data": {
      "text/plain": [
       "[0, 1, 2, 3, 4, 5, 6, 13, 14, 15]"
      ]
     },
     "execution_count": 9,
     "metadata": {},
     "output_type": "execute_result"
    }
   ],
   "source": [
    "cat_columns = [i for i, col in enumerate(x_train) if not issubclass(x_train[col].dtype.type, np.floating)]\n",
    "cat_columns"
   ]
  },
  {
   "cell_type": "code",
   "execution_count": 10,
   "metadata": {},
   "outputs": [],
   "source": [
    "train = catboost.Pool(\n",
    "    data=x_train,\n",
    "    label=y_train,\n",
    "    cat_features=cat_columns\n",
    ")"
   ]
  },
  {
   "cell_type": "code",
   "execution_count": 11,
   "metadata": {},
   "outputs": [],
   "source": [
    "valid = catboost.Pool(\n",
    "    data=x_valid,\n",
    "    label=y_valid,\n",
    "    cat_features=cat_columns\n",
    ")"
   ]
  },
  {
   "cell_type": "markdown",
   "metadata": {},
   "source": [
    "# Hyperparameters optimization"
   ]
  },
  {
   "cell_type": "code",
   "execution_count": 18,
   "metadata": {},
   "outputs": [],
   "source": [
    "space = dict(\n",
    "    random_state=284704,\n",
    "    od_type=\"Iter\",\n",
    "    learning_rate=0.1,\n",
    "    task_type=\"GPU\",\n",
    "    verbose=False,\n",
    "    depth=hp.choice(\"depth\", list(range(1, 17))),\n",
    "    l2_leaf_reg=hp.loguniform(\"l2_leaf_reg\", np.log(0.3), np.log(30)),\n",
    "    random_strength=hp.loguniform(\"rand_strength\", np.log(0.1), np.log(10)),\n",
    "    bagging_temperature=hp.loguniform(\"bagging_temperature\", np.log(0.1), np.log(10))\n",
    ")\n",
    "if sys.platform == \"darwin\":\n",
    "    del space[\"task_type\"]"
   ]
  },
  {
   "cell_type": "code",
   "execution_count": 19,
   "metadata": {},
   "outputs": [],
   "source": [
    "class CatboostHyper:\n",
    "    def __init__(self, train, valid):\n",
    "        self._train = train\n",
    "        self._valid = valid\n",
    "        self._counter = 0\n",
    "        self._rmse = None\n",
    "        self._clf = None\n",
    "        \n",
    "    def __call__(self, params, plot=False):\n",
    "        clf = catboost.CatBoostRegressor(**params)\n",
    "        clf.fit(\n",
    "            X=self._train, \n",
    "            eval_set=self._valid\n",
    "        )\n",
    "        rmse = clf.get_best_score()[\"validation_0\"][\"RMSE\"]\n",
    "        print(f\"Run {self._counter}: \"\n",
    "              f\"RMSE - {rmse:0.5f}, \"\n",
    "              f\"Best Iteration - {clf.get_best_iteration() + 1}\"\n",
    "             )\n",
    "        self._counter += 1\n",
    "        if self._rmse is None or rmse < self._rmse:\n",
    "            self._rmse = rmse\n",
    "            self._clf = clf\n",
    "            print(f\"Best run: params - {clf.get_params()}\")\n",
    "            print()\n",
    "        return rmse\n",
    "            \n",
    "    def feature_importance(self):\n",
    "        clf = self.best_clf\n",
    "        for i, v in clf.get_feature_importance(prettified=True):\n",
    "            print(i.ljust(20), v)\n",
    "        print()   \n",
    "        for i, j, value in clf.get_feature_importance(fstr_type=\"Interaction\", prettified=True)[:10]:\n",
    "            print(x_train.columns[i].ljust(20), x_train.columns[j].ljust(20), value)\n",
    "    \n",
    "    @property\n",
    "    def best_clf(self):\n",
    "        return self._clf"
   ]
  },
  {
   "cell_type": "code",
   "execution_count": 20,
   "metadata": {},
   "outputs": [
    {
     "name": "stdout",
     "output_type": "stream",
     "text": [
      "Run 0: RMSE - 1.03089, Best Iteration - 5\n",
      "Best run: params - {'iterations': 5, 'learning_rate': 0.1, 'depth': 1, 'l2_leaf_reg': 5.2003828181618745, 'loss_function': 'RMSE', 'od_type': 'Iter', 'verbose': False, 'random_strength': 0.1101051113732725, 'bagging_temperature': 8.144781580352324, 'random_state': 284704}\n",
      "\n",
      "Run 1: RMSE - 0.98158, Best Iteration - 5\n",
      "Best run: params - {'iterations': 5, 'learning_rate': 0.1, 'depth': 4, 'l2_leaf_reg': 0.6665086343057374, 'loss_function': 'RMSE', 'od_type': 'Iter', 'verbose': False, 'random_strength': 4.961808655416047, 'bagging_temperature': 0.7118780402545827, 'random_state': 284704}\n",
      "\n",
      "Run 2: RMSE - 1.00284, Best Iteration - 5\n",
      "Run 3: RMSE - 1.00784, Best Iteration - 5\n"
     ]
    },
    {
     "data": {
      "text/plain": [
       "{'bagging_temperature': 0.7118780402545827,\n",
       " 'depth': 3,\n",
       " 'l2_leaf_reg': 0.6665086343057374,\n",
       " 'rand_strength': 4.961808655416047}"
      ]
     },
     "execution_count": 20,
     "metadata": {},
     "output_type": "execute_result"
    }
   ],
   "source": [
    "opt = CatboostHyper(train, valid)\n",
    "hyperopt.fmin(\n",
    "    opt,\n",
    "    space=space,\n",
    "    algo=hyperopt.tpe.suggest,\n",
    "    max_evals=100)"
   ]
  },
  {
   "cell_type": "code",
   "execution_count": 21,
   "metadata": {},
   "outputs": [
    {
     "name": "stdout",
     "output_type": "stream",
     "text": [
      "y_1                  75.02639680167826\n",
      "item_date_y_1        8.290124226064508\n",
      "y_3                  6.135055083519171\n",
      "cummean_shop_item_y  4.572382848255849\n",
      "shop_cat_date_y_3    3.152552694638401\n",
      "new_item             2.823488345843804\n",
      "date_block_num       0.0\n",
      "shop_id              0.0\n",
      "item_id              0.0\n",
      "item_category_id     0.0\n",
      "category_group       0.0\n",
      "sub_category         0.0\n",
      "month                0.0\n",
      "y_2                  0.0\n",
      "y_4                  0.0\n",
      "diff_y1_y2           0.0\n",
      "diff_y1_y13          0.0\n",
      "item_sold            0.0\n",
      "item_cluster_21      0.0\n",
      "item_date_y_2        0.0\n",
      "item_date_y_3        0.0\n",
      "shop_date_y_1        0.0\n",
      "shop_date_y_2        0.0\n",
      "shop_date_y_12       0.0\n",
      "shop_cat_date_y_1    0.0\n",
      "shop_cat_date_y_2    0.0\n",
      "cat_date_y_1         0.0\n",
      "cat_date_y_2         0.0\n",
      "cat_date_y_3         0.0\n",
      "price_growth_1_6     0.0\n",
      "\n",
      "y_1                  item_date_y_1        29.812237633737386\n",
      "y_1                  y_3                  20.578204330390836\n",
      "y_1                  shop_cat_date_y_3    12.029660706264428\n",
      "y_1                  cummean_shop_item_y  8.995449917113628\n",
      "y_3                  item_date_y_1        1.5873258452268821\n",
      "item_date_y_1        cummean_shop_item_y  0.8912147601678052\n"
     ]
    }
   ],
   "source": [
    "opt.feature_importance()"
   ]
  },
  {
   "cell_type": "markdown",
   "metadata": {},
   "source": [
    "# Submission"
   ]
  },
  {
   "cell_type": "code",
   "execution_count": 23,
   "metadata": {},
   "outputs": [],
   "source": [
    "sub_df = pd.DataFrame(\n",
    "    opt.best_clf.predict(x_test), \n",
    "    index=test.index, \n",
    "    columns=[\"item_cnt_month\"]\n",
    ").clip(0, 20)\n",
    "sub_df.index.name = \"ID\""
   ]
  },
  {
   "cell_type": "code",
   "execution_count": 24,
   "metadata": {},
   "outputs": [],
   "source": [
    "sub_path = f\"./submissions/submission_{__ver__}.csv\"\n",
    "sub_df.to_csv(sub_path)"
   ]
  },
  {
   "cell_type": "markdown",
   "metadata": {},
   "source": [
    "## Ensembling"
   ]
  },
  {
   "cell_type": "markdown",
   "metadata": {},
   "source": [
    "* Save all good models\n",
    "* Make diverse models"
   ]
  },
  {
   "cell_type": "markdown",
   "metadata": {},
   "source": [
    "* Averaging\n",
    "* Weighted averaging\n",
    "* Bagging (BaggingClassifier and BaggingRegressor from Sklearn, seed bagging)\n",
    "* Boosting (AdaBoostClassifier from Sklearn)\n",
    "* Stacking (Meta model should be modest)\n",
    "* StackNet\n",
    "    - Diversity of base algoritms\n",
    "    - Diversity of base data\n",
    "    - Simpler algoritms on higher levels\n",
    "    - Feature engineering of meta feature (differences, std ...)\n",
    "    - For every level 1model for 5-10 modelesin orivios level"
   ]
  }
 ],
 "metadata": {
  "kernelspec": {
   "display_name": "Python 3",
   "language": "python",
   "name": "python3"
  },
  "language_info": {
   "codemirror_mode": {
    "name": "ipython",
    "version": 3
   },
   "file_extension": ".py",
   "mimetype": "text/x-python",
   "name": "python",
   "nbconvert_exporter": "python",
   "pygments_lexer": "ipython3",
   "version": "3.7.2"
  }
 },
 "nbformat": 4,
 "nbformat_minor": 2
}
