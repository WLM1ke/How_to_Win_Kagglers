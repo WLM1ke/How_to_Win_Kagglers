{
 "cells": [
  {
   "cell_type": "markdown",
   "metadata": {},
   "source": [
    "# Project name: [Predict Future Sales](https://www.kaggle.com/c/competitive-data-science-predict-future-sales)"
   ]
  },
  {
   "cell_type": "markdown",
   "metadata": {},
   "source": [
    "# Objective"
   ]
  },
  {
   "cell_type": "markdown",
   "metadata": {},
   "source": [
    "Try new features or Get better than 0.923 score on [Public Leaderboard](https://www.kaggle.com/c/competitive-data-science-predict-future-sales/leaderboard)"
   ]
  },
  {
   "cell_type": "markdown",
   "metadata": {},
   "source": [
    "# Version"
   ]
  },
  {
   "cell_type": "code",
   "execution_count": 1,
   "metadata": {},
   "outputs": [],
   "source": [
    "__ver__ = \"0.6\""
   ]
  },
  {
   "cell_type": "markdown",
   "metadata": {},
   "source": [
    "# Setup"
   ]
  },
  {
   "cell_type": "code",
   "execution_count": 2,
   "metadata": {},
   "outputs": [],
   "source": [
    "import itertools\n",
    "import warnings\n",
    "import sys\n",
    "\n",
    "warnings.filterwarnings('ignore')\n",
    "\n",
    "import numpy as np\n",
    "import pandas as pd\n",
    "import lightgbm\n",
    "import sklearn\n",
    "import seaborn as sns\n",
    "import matplotlib.pyplot as plt\n",
    "%matplotlib inline "
   ]
  },
  {
   "cell_type": "markdown",
   "metadata": {},
   "source": [
    "# Data load"
   ]
  },
  {
   "cell_type": "code",
   "execution_count": 3,
   "metadata": {},
   "outputs": [],
   "source": [
    "test_path = \"./raw_data/test.csv.gz\"\n",
    "test = pd.read_csv(test_path).set_index('ID')"
   ]
  },
  {
   "cell_type": "code",
   "execution_count": 4,
   "metadata": {},
   "outputs": [],
   "source": [
    "catboost_test = pd.read_pickle(\"./processed_data/catboost_test.pickle\")\n",
    "catboost_valid = pd.read_pickle(\"./processed_data/catboost_valid.pickle\")\n",
    "\n",
    "lightgbm_rf_test = pd.read_pickle(\"./processed_data/lightgbm_rf_test.pickle\")\n",
    "lightgbm_rf_valid = pd.read_pickle(\"./processed_data/lightgbm_rf_valid.pickle\")\n",
    "\n",
    "lightgbm_test = pd.read_pickle(\"./processed_data/lightgbm_test.pickle\")\n",
    "lightgbm_valid = pd.read_pickle(\"./processed_data/lightgbm_valid.pickle\")\n",
    "\n",
    "nn_test = pd.read_pickle(\"./processed_data/nn_test.pickle\")\n",
    "nn_valid = pd.read_pickle(\"./processed_data/nn_valid.pickle\")\n",
    "\n",
    "rf_test = pd.read_pickle(\"./processed_data/rf_test.pickle\")\n",
    "rf_valid = pd.read_pickle(\"./processed_data/rf_valid.pickle\")\n",
    "\n",
    "xgboost_test = pd.read_pickle(\"./processed_data/xgboost_test.pickle\")\n",
    "xgboost_valid = pd.read_pickle(\"./processed_data/xgboost_valid.pickle\")"
   ]
  },
  {
   "cell_type": "code",
   "execution_count": 5,
   "metadata": {},
   "outputs": [],
   "source": [
    "valid_y = pd.read_pickle(\"./processed_data/valid_target.pickle\")"
   ]
  },
  {
   "cell_type": "markdown",
   "metadata": {},
   "source": [
    "# Ensembling"
   ]
  },
  {
   "cell_type": "markdown",
   "metadata": {},
   "source": [
    "## Stack data and show correlation"
   ]
  },
  {
   "cell_type": "code",
   "execution_count": 6,
   "metadata": {},
   "outputs": [],
   "source": [
    "stack_valid = pd.concat([catboost_valid, lightgbm_valid, xgboost_valid, lightgbm_rf_valid, rf_valid, nn_valid], axis=1)\n",
    "stack_test = pd.concat([catboost_test, lightgbm_test, xgboost_test, lightgbm_rf_test, rf_test, nn_test], axis=1)"
   ]
  },
  {
   "cell_type": "code",
   "execution_count": 7,
   "metadata": {},
   "outputs": [
    {
     "data": {
      "text/plain": [
       "<matplotlib.axes._subplots.AxesSubplot at 0x12ae63da0>"
      ]
     },
     "execution_count": 7,
     "metadata": {},
     "output_type": "execute_result"
    },
    {
     "data": {
      "image/png": "[encoded data removed]",
      "text/plain": [
       "<Figure size 432x288 with 2 Axes>"
      ]
     },
     "metadata": {
      "needs_background": "light"
     },
     "output_type": "display_data"
    }
   ],
   "source": [
    "sns.heatmap(stack_valid.corr(), cmap=\"RdYlGn\", annot=True)"
   ]
  },
  {
   "cell_type": "markdown",
   "metadata": {},
   "source": [
    "**Public Leaderboard:**"
   ]
  },
  {
   "cell_type": "code",
   "execution_count": 8,
   "metadata": {},
   "outputs": [],
   "source": [
    "# Catboost     - 0.93440\n",
    "# LightGBM     - 0.93864\n",
    "# XGBoost      - 0.94213\n",
    "# LightGBM RF  - 0.94227\n",
    "# RandomForest - 0.95773\n",
    "# Simple NN    - 0.95999"
   ]
  },
  {
   "cell_type": "markdown",
   "metadata": {},
   "source": [
    "RandomForest and Simple NN have low leaderboard results but also low correlations - so they can \"diversify\" errors of other models."
   ]
  },
  {
   "cell_type": "markdown",
   "metadata": {},
   "source": [
    "## Simple ensembling"
   ]
  },
  {
   "cell_type": "markdown",
   "metadata": {},
   "source": [
    "I use lightgbm random forest \"as is\" for ensembling."
   ]
  },
  {
   "cell_type": "code",
   "execution_count": 9,
   "metadata": {},
   "outputs": [
    {
     "data": {
      "text/plain": [
       "LGBMRegressor(bagging_fraction=0.632, bagging_freq=1, boosting_type='rf',\n",
       "       class_weight=None, colsample_bytree=1.0, feature_fraction=0.632,\n",
       "       importance_type='split', learning_rate=0.1, max_depth=-1,\n",
       "       min_child_samples=20, min_child_weight=0.001, min_split_gain=0.0,\n",
       "       n_estimators=100, n_jobs=-1, num_leaves=31, objective=None,\n",
       "       random_state=284704, reg_alpha=0.0, reg_lambda=0.0, silent=True,\n",
       "       subsample=1.0, subsample_for_bin=200000, subsample_freq=0)"
      ]
     },
     "execution_count": 9,
     "metadata": {},
     "output_type": "execute_result"
    }
   ],
   "source": [
    "clf_params = dict(\n",
    "    boosting_type=\"rf\", \n",
    "    bagging_freq=1, \n",
    "    bagging_fraction=0.632, \n",
    "    feature_fraction=0.632,\n",
    "    random_state=284704,\n",
    "    n_estimators=100,\n",
    ")\n",
    "clf = lightgbm.LGBMRegressor(**clf_params)\n",
    "\n",
    "clf.fit(\n",
    "    stack_valid, \n",
    "    valid_y, \n",
    ")"
   ]
  },
  {
   "cell_type": "code",
   "execution_count": 10,
   "metadata": {},
   "outputs": [
    {
     "data": {
      "text/plain": [
       "<matplotlib.axes._subplots.AxesSubplot at 0x12e513a90>"
      ]
     },
     "execution_count": 10,
     "metadata": {},
     "output_type": "execute_result"
    },
    {
     "data": {
      "image/png": "[encoded data removed]",
      "text/plain": [
       "<Figure size 720x1008 with 1 Axes>"
      ]
     },
     "metadata": {
      "needs_background": "light"
     },
     "output_type": "display_data"
    }
   ],
   "source": [
    "fig, ax = plt.subplots(1, 1, figsize=(10, 14))\n",
    "lightgbm.plot_importance(clf, ax=ax)"
   ]
  },
  {
   "cell_type": "code",
   "execution_count": 11,
   "metadata": {},
   "outputs": [
    {
     "name": "stdout",
     "output_type": "stream",
     "text": [
      "catboost        0.66845\n",
      "lightgbm        0.67868\n",
      "xgboost         0.67086\n",
      "lightgbm_rf     0.68827\n",
      "rf              0.78205\n",
      "NN              0.68310\n",
      "\n",
      "Ensembling      0.61431\n"
     ]
    }
   ],
   "source": [
    "for col in stack_valid:\n",
    "    print(col.ljust(15), f\"{sklearn.metrics.mean_squared_error(stack_valid[col], valid_y):.5f}\")\n",
    "print()\n",
    "print(\"Ensembling\".ljust(15), f\"{sklearn.metrics.mean_squared_error(clf.predict(stack_valid), valid_y):.5f}\")"
   ]
  },
  {
   "cell_type": "markdown",
   "metadata": {},
   "source": [
    "## Ensembling with shop and item ids"
   ]
  },
  {
   "cell_type": "markdown",
   "metadata": {},
   "source": [
    "I use lightgbm random forest \"as is\" for ensembling."
   ]
  },
  {
   "cell_type": "code",
   "execution_count": 12,
   "metadata": {},
   "outputs": [],
   "source": [
    "stack_valid = pd.concat([test, catboost_valid, lightgbm_valid, xgboost_valid, lightgbm_rf_valid, rf_valid, nn_valid], axis=1)\n",
    "stack_test = pd.concat([test, catboost_test, lightgbm_test, xgboost_test, lightgbm_rf_test, rf_test, nn_test], axis=1)"
   ]
  },
  {
   "cell_type": "code",
   "execution_count": 13,
   "metadata": {},
   "outputs": [
    {
     "data": {
      "text/plain": [
       "LGBMRegressor(bagging_fraction=0.632, bagging_freq=1, boosting_type='rf',\n",
       "       class_weight=None, colsample_bytree=1.0, feature_fraction=0.632,\n",
       "       importance_type='split', learning_rate=0.1, max_depth=-1,\n",
       "       min_child_samples=20, min_child_weight=0.001, min_split_gain=0.0,\n",
       "       n_estimators=100, n_jobs=-1, num_leaves=31, objective=None,\n",
       "       random_state=284704, reg_alpha=0.0, reg_lambda=0.0, silent=True,\n",
       "       subsample=1.0, subsample_for_bin=200000, subsample_freq=0)"
      ]
     },
     "execution_count": 13,
     "metadata": {},
     "output_type": "execute_result"
    }
   ],
   "source": [
    "clf_params = dict(\n",
    "    boosting_type=\"rf\", \n",
    "    bagging_freq=1, \n",
    "    bagging_fraction=0.632, \n",
    "    feature_fraction=0.632,\n",
    "    random_state=284704,\n",
    "    n_estimators=100,\n",
    ")\n",
    "clf = lightgbm.LGBMRegressor(**clf_params)\n",
    "\n",
    "clf.fit(\n",
    "    stack_valid, \n",
    "    valid_y, \n",
    ")"
   ]
  },
  {
   "cell_type": "code",
   "execution_count": 14,
   "metadata": {},
   "outputs": [
    {
     "data": {
      "text/plain": [
       "<matplotlib.axes._subplots.AxesSubplot at 0x133875cc0>"
      ]
     },
     "execution_count": 14,
     "metadata": {},
     "output_type": "execute_result"
    },
    {
     "data": {
      "image/png": "[encoded data removed]",
      "text/plain": [
       "<Figure size 720x1008 with 1 Axes>"
      ]
     },
     "metadata": {
      "needs_background": "light"
     },
     "output_type": "display_data"
    }
   ],
   "source": [
    "fig, ax = plt.subplots(1, 1, figsize=(10, 14))\n",
    "lightgbm.plot_importance(clf, ax=ax)"
   ]
  },
  {
   "cell_type": "code",
   "execution_count": 15,
   "metadata": {},
   "outputs": [
    {
     "name": "stdout",
     "output_type": "stream",
     "text": [
      "catboost        0.66845\n",
      "lightgbm        0.67868\n",
      "xgboost         0.67086\n",
      "lightgbm_rf     0.68827\n",
      "rf              0.78205\n",
      "NN              0.68310\n",
      "\n",
      "Ensembling      0.55147\n"
     ]
    }
   ],
   "source": [
    "for col in stack_valid.iloc[:, 2:]:\n",
    "    print(col.ljust(15), f\"{sklearn.metrics.mean_squared_error(stack_valid[col], valid_y):.5f}\")\n",
    "print()\n",
    "print(\"Ensembling\".ljust(15), f\"{sklearn.metrics.mean_squared_error(clf.predict(stack_valid), valid_y):.5f}\")"
   ]
  },
  {
   "cell_type": "markdown",
   "metadata": {},
   "source": [
    "# Submission"
   ]
  },
  {
   "cell_type": "code",
   "execution_count": 16,
   "metadata": {},
   "outputs": [],
   "source": [
    "sub_df = pd.DataFrame(\n",
    "    clf.predict(stack_test), \n",
    "    index=test.index, \n",
    "    columns=[\"item_cnt_month\"]\n",
    ").clip(0, 20)\n",
    "sub_df.index.name = \"ID\""
   ]
  },
  {
   "cell_type": "code",
   "execution_count": 17,
   "metadata": {},
   "outputs": [],
   "source": [
    "sub_path = f\"./submissions/submission_{__ver__}.csv\"\n",
    "sub_df.to_csv(sub_path)"
   ]
  }
 ],
 "metadata": {
  "kernelspec": {
   "display_name": "Python 3",
   "language": "python",
   "name": "python3"
  },
  "language_info": {
   "codemirror_mode": {
    "name": "ipython",
    "version": 3
   },
   "file_extension": ".py",
   "mimetype": "text/x-python",
   "name": "python",
   "nbconvert_exporter": "python",
   "pygments_lexer": "ipython3",
   "version": "3.6.7"
  }
 },
 "nbformat": 4,
 "nbformat_minor": 2
}
