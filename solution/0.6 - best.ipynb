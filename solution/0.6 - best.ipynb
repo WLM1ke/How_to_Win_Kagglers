{
 "cells": [
  {
   "cell_type": "markdown",
   "metadata": {},
   "source": [
    "# Project name: [Predict Future Sales](https://www.kaggle.com/c/competitive-data-science-predict-future-sales)"
   ]
  },
  {
   "cell_type": "markdown",
   "metadata": {},
   "source": [
    "# Objective"
   ]
  },
  {
   "cell_type": "markdown",
   "metadata": {},
   "source": [
    "Try new features or Get better than 0.923 score on [Public Leaderboard](https://www.kaggle.com/c/competitive-data-science-predict-future-sales/leaderboard)"
   ]
  },
  {
   "cell_type": "markdown",
   "metadata": {},
   "source": [
    "# Version"
   ]
  },
  {
   "cell_type": "code",
   "execution_count": 3,
   "metadata": {},
   "outputs": [],
   "source": [
    "__ver__ = \"0.6\""
   ]
  },
  {
   "cell_type": "markdown",
   "metadata": {},
   "source": [
    "# Setup"
   ]
  },
  {
   "cell_type": "code",
   "execution_count": 2,
   "metadata": {},
   "outputs": [],
   "source": [
    "import numpy as np\n",
    "import pandas as pd\n",
    "import catboost\n",
    "import xgboost\n",
    "import sklearn\n",
    "from sklearn import preprocessing\n",
    "import matplotlib.pyplot as plt\n",
    "import statsmodels as sm\n",
    "from pmdarima import arima\n",
    "%matplotlib inline \n",
    "\n",
    "import itertools\n",
    "import warnings\n",
    "import sys\n",
    "\n",
    "warnings.filterwarnings('ignore')\n",
    "\n",
    "def downcaster(df):\n",
    "    for col in df:\n",
    "        if issubclass(df[col].dtype.type, np.floating):\n",
    "            df.loc[:, col] = pd.to_numeric(df.loc[:, col], downcast='float')\n",
    "        if issubclass(df[col].dtype.type, np.integer):\n",
    "            df.loc[:, col]   = pd.to_numeric(df.loc[:, col], downcast='integer')\n",
    "    return df"
   ]
  },
  {
   "cell_type": "markdown",
   "metadata": {},
   "source": [
    "# Data load"
   ]
  },
  {
   "cell_type": "code",
   "execution_count": 19,
   "metadata": {},
   "outputs": [],
   "source": [
    "# path\n",
    "cat_path = \"./raw_data/item_categories.csv\"\n",
    "items_path = \"./raw_data/items.csv\"\n",
    "shop_path = \"./raw_data/shops.csv\"\n",
    "sales_path = \"./raw_data/sales_train.csv.gz\"\n",
    "test_path = \"./raw_data/test.csv.gz\""
   ]
  },
  {
   "cell_type": "code",
   "execution_count": 20,
   "metadata": {},
   "outputs": [],
   "source": [
    "# load\n",
    "cat = pd.read_csv(cat_path)\n",
    "items = pd.read_csv(items_path)\n",
    "shops = pd.read_csv(shop_path)\n",
    "sales_params = dict(parse_dates=[0], infer_datetime_format = True, dayfirst=True)\n",
    "sales = pd.read_csv(sales_path, **sales_params)\n",
    "prices = pd.read_csv(sales_path, **sales_params)\n",
    "# load and save ID in index\n",
    "test = pd.read_csv(test_path).set_index('ID')"
   ]
  },
  {
   "cell_type": "markdown",
   "metadata": {},
   "source": [
    "# Data preprocessing"
   ]
  },
  {
   "cell_type": "markdown",
   "metadata": {},
   "source": [
    " ## Categories"
   ]
  },
  {
   "cell_type": "code",
   "execution_count": 5,
   "metadata": {},
   "outputs": [
    {
     "data": {
      "text/html": [
       "<div>\n",
       "<style scoped>\n",
       "    .dataframe tbody tr th:only-of-type {\n",
       "        vertical-align: middle;\n",
       "    }\n",
       "\n",
       "    .dataframe tbody tr th {\n",
       "        vertical-align: top;\n",
       "    }\n",
       "\n",
       "    .dataframe thead th {\n",
       "        text-align: right;\n",
       "    }\n",
       "</style>\n",
       "<table border=\"1\" class=\"dataframe\">\n",
       "  <thead>\n",
       "    <tr style=\"text-align: right;\">\n",
       "      <th></th>\n",
       "      <th>item_category_name</th>\n",
       "      <th>item_category_id</th>\n",
       "    </tr>\n",
       "  </thead>\n",
       "  <tbody>\n",
       "    <tr>\n",
       "      <th>0</th>\n",
       "      <td>PC - Гарнитуры/Наушники</td>\n",
       "      <td>0</td>\n",
       "    </tr>\n",
       "    <tr>\n",
       "      <th>1</th>\n",
       "      <td>Аксессуары - PS2</td>\n",
       "      <td>1</td>\n",
       "    </tr>\n",
       "    <tr>\n",
       "      <th>2</th>\n",
       "      <td>Аксессуары - PS3</td>\n",
       "      <td>2</td>\n",
       "    </tr>\n",
       "    <tr>\n",
       "      <th>3</th>\n",
       "      <td>Аксессуары - PS4</td>\n",
       "      <td>3</td>\n",
       "    </tr>\n",
       "    <tr>\n",
       "      <th>4</th>\n",
       "      <td>Аксессуары - PSP</td>\n",
       "      <td>4</td>\n",
       "    </tr>\n",
       "  </tbody>\n",
       "</table>\n",
       "</div>"
      ],
      "text/plain": [
       "        item_category_name  item_category_id\n",
       "0  PC - Гарнитуры/Наушники                 0\n",
       "1         Аксессуары - PS2                 1\n",
       "2         Аксессуары - PS3                 2\n",
       "3         Аксессуары - PS4                 3\n",
       "4         Аксессуары - PSP                 4"
      ]
     },
     "execution_count": 5,
     "metadata": {},
     "output_type": "execute_result"
    }
   ],
   "source": [
    "cat.head()"
   ]
  },
  {
   "cell_type": "code",
   "execution_count": 6,
   "metadata": {},
   "outputs": [],
   "source": [
    "# item_category_name can be split into category_group and sub_category\n",
    "cat_split = cat.item_category_name.str.split(\" - \")\n",
    "cat[\"category_group\"] = cat_split.apply(lambda x:  x[0].strip())\n",
    "cat[\"sub_category\"] = cat_split.apply(lambda x:  x[1].strip() if len(x) == 2 else x[0].strip())"
   ]
  },
  {
   "cell_type": "code",
   "execution_count": 7,
   "metadata": {},
   "outputs": [
    {
     "name": "stdout",
     "output_type": "stream",
     "text": [
      "<class 'pandas.core.frame.DataFrame'>\n",
      "RangeIndex: 84 entries, 0 to 83\n",
      "Data columns (total 3 columns):\n",
      "item_category_id    84 non-null int8\n",
      "category_group      84 non-null int8\n",
      "sub_category        84 non-null int8\n",
      "dtypes: int8(3)\n",
      "memory usage: 332.0 bytes\n"
     ]
    }
   ],
   "source": [
    "# Drop, encode and downcast\n",
    "cat = cat.drop(\"item_category_name\", axis=1)\n",
    "cat.category_group = preprocessing.LabelEncoder().fit_transform(cat.category_group)\n",
    "cat.sub_category = preprocessing.LabelEncoder().fit_transform(cat.sub_category)\n",
    "cat = downcaster(cat)\n",
    "cat.info()"
   ]
  },
  {
   "cell_type": "markdown",
   "metadata": {},
   "source": [
    "## Shops"
   ]
  },
  {
   "cell_type": "code",
   "execution_count": 8,
   "metadata": {},
   "outputs": [
    {
     "data": {
      "text/html": [
       "<div>\n",
       "<style scoped>\n",
       "    .dataframe tbody tr th:only-of-type {\n",
       "        vertical-align: middle;\n",
       "    }\n",
       "\n",
       "    .dataframe tbody tr th {\n",
       "        vertical-align: top;\n",
       "    }\n",
       "\n",
       "    .dataframe thead th {\n",
       "        text-align: right;\n",
       "    }\n",
       "</style>\n",
       "<table border=\"1\" class=\"dataframe\">\n",
       "  <thead>\n",
       "    <tr style=\"text-align: right;\">\n",
       "      <th></th>\n",
       "      <th>shop_name</th>\n",
       "      <th>shop_id</th>\n",
       "    </tr>\n",
       "  </thead>\n",
       "  <tbody>\n",
       "    <tr>\n",
       "      <th>0</th>\n",
       "      <td>!Якутск Орджоникидзе, 56 фран</td>\n",
       "      <td>0</td>\n",
       "    </tr>\n",
       "    <tr>\n",
       "      <th>57</th>\n",
       "      <td>Якутск Орджоникидзе, 56</td>\n",
       "      <td>57</td>\n",
       "    </tr>\n",
       "    <tr>\n",
       "      <th>1</th>\n",
       "      <td>!Якутск ТЦ \"Центральный\" фран</td>\n",
       "      <td>1</td>\n",
       "    </tr>\n",
       "    <tr>\n",
       "      <th>58</th>\n",
       "      <td>Якутск ТЦ \"Центральный\"</td>\n",
       "      <td>58</td>\n",
       "    </tr>\n",
       "    <tr>\n",
       "      <th>10</th>\n",
       "      <td>Жуковский ул. Чкалова 39м?</td>\n",
       "      <td>10</td>\n",
       "    </tr>\n",
       "    <tr>\n",
       "      <th>11</th>\n",
       "      <td>Жуковский ул. Чкалова 39м²</td>\n",
       "      <td>11</td>\n",
       "    </tr>\n",
       "  </tbody>\n",
       "</table>\n",
       "</div>"
      ],
      "text/plain": [
       "                        shop_name  shop_id\n",
       "0   !Якутск Орджоникидзе, 56 фран        0\n",
       "57        Якутск Орджоникидзе, 56       57\n",
       "1   !Якутск ТЦ \"Центральный\" фран        1\n",
       "58        Якутск ТЦ \"Центральный\"       58\n",
       "10     Жуковский ул. Чкалова 39м?       10\n",
       "11     Жуковский ул. Чкалова 39м²       11"
      ]
     },
     "execution_count": 8,
     "metadata": {},
     "output_type": "execute_result"
    }
   ],
   "source": [
    "# looks like dublicated shops \n",
    "shops.iloc[[0, 57, 1, 58, 10, 11]]"
   ]
  },
  {
   "cell_type": "markdown",
   "metadata": {},
   "source": [
    "#### Shops 0 and 57"
   ]
  },
  {
   "cell_type": "code",
   "execution_count": 9,
   "metadata": {},
   "outputs": [
    {
     "data": {
      "text/plain": [
       "array([0, 1])"
      ]
     },
     "execution_count": 9,
     "metadata": {},
     "output_type": "execute_result"
    }
   ],
   "source": [
    "# shop 0 ends at 1 date_block_num               \n",
    "sales[sales.shop_id == 0].date_block_num.unique()"
   ]
  },
  {
   "cell_type": "code",
   "execution_count": 10,
   "metadata": {},
   "outputs": [
    {
     "data": {
      "text/plain": [
       "array([ 2,  3,  4,  5,  6,  7,  8,  9, 10, 11, 12, 13, 14, 15, 16, 17, 18,\n",
       "       19, 20, 21, 22, 23, 24, 25, 26, 27, 28, 29, 30, 31, 32, 33])"
      ]
     },
     "execution_count": 10,
     "metadata": {},
     "output_type": "execute_result"
    }
   ],
   "source": [
    "# shop 57 starts at 2 date_block_num\n",
    "sales[sales.shop_id == 57].date_block_num.unique()"
   ]
  },
  {
   "cell_type": "code",
   "execution_count": 11,
   "metadata": {},
   "outputs": [
    {
     "data": {
      "text/plain": [
       "False"
      ]
     },
     "execution_count": 11,
     "metadata": {},
     "output_type": "execute_result"
    }
   ],
   "source": [
    "# no shop 0 in test set\n",
    "0 in test.shop_id.unique()"
   ]
  },
  {
   "cell_type": "code",
   "execution_count": 12,
   "metadata": {},
   "outputs": [],
   "source": [
    "# replace shop 0 with 57\n",
    "sales.loc[sales.shop_id == 0, \"shop_id\"] = 57"
   ]
  },
  {
   "cell_type": "markdown",
   "metadata": {},
   "source": [
    "#### Shops 1 and 58"
   ]
  },
  {
   "cell_type": "code",
   "execution_count": 13,
   "metadata": {},
   "outputs": [
    {
     "data": {
      "text/plain": [
       "array([0, 1])"
      ]
     },
     "execution_count": 13,
     "metadata": {},
     "output_type": "execute_result"
    }
   ],
   "source": [
    "# shop 1 ends at 1 date_block_num               \n",
    "sales[sales.shop_id == 1].date_block_num.unique()"
   ]
  },
  {
   "cell_type": "code",
   "execution_count": 14,
   "metadata": {},
   "outputs": [
    {
     "data": {
      "text/plain": [
       "array([ 2,  3,  4,  5,  6,  7,  8,  9, 10, 11, 12, 13, 14, 15, 16, 17, 18,\n",
       "       19, 20, 21, 22, 23, 24, 25, 26, 27, 28, 29, 30, 31, 32, 33])"
      ]
     },
     "execution_count": 14,
     "metadata": {},
     "output_type": "execute_result"
    }
   ],
   "source": [
    "# shop 58 starts at 2 date_block_num\n",
    "sales[sales.shop_id == 58].date_block_num.unique()"
   ]
  },
  {
   "cell_type": "code",
   "execution_count": 15,
   "metadata": {},
   "outputs": [
    {
     "data": {
      "text/plain": [
       "False"
      ]
     },
     "execution_count": 15,
     "metadata": {},
     "output_type": "execute_result"
    }
   ],
   "source": [
    "# no shop 1 in test set\n",
    "1 in test.shop_id.unique()"
   ]
  },
  {
   "cell_type": "code",
   "execution_count": 16,
   "metadata": {},
   "outputs": [],
   "source": [
    "# replase shop 0 with 58\n",
    "sales.loc[sales.shop_id == 1, \"shop_id\"] = 58"
   ]
  },
  {
   "cell_type": "markdown",
   "metadata": {},
   "source": [
    "#### Shops 10 and 11"
   ]
  },
  {
   "cell_type": "code",
   "execution_count": 17,
   "metadata": {},
   "outputs": [
    {
     "data": {
      "text/plain": [
       "array([25])"
      ]
     },
     "execution_count": 17,
     "metadata": {},
     "output_type": "execute_result"
    }
   ],
   "source": [
    "# shop 11 exists only at 25 date_block_num\n",
    "sales[sales.shop_id == 11].date_block_num.unique()"
   ]
  },
  {
   "cell_type": "code",
   "execution_count": 18,
   "metadata": {
    "scrolled": true
   },
   "outputs": [
    {
     "data": {
      "text/plain": [
       "array([ 0,  1,  2,  3,  4,  5,  6,  7,  8,  9, 10, 11, 12, 13, 14, 15, 16,\n",
       "       17, 18, 19, 20, 21, 22, 23, 24, 26, 27, 28, 29, 30, 31, 32, 33])"
      ]
     },
     "execution_count": 18,
     "metadata": {},
     "output_type": "execute_result"
    }
   ],
   "source": [
    "# no 25 date_block_num for shop 10\n",
    "sales[sales.shop_id == 10].date_block_num.unique()"
   ]
  },
  {
   "cell_type": "code",
   "execution_count": 19,
   "metadata": {},
   "outputs": [
    {
     "data": {
      "text/plain": [
       "False"
      ]
     },
     "execution_count": 19,
     "metadata": {},
     "output_type": "execute_result"
    }
   ],
   "source": [
    "# no shop 11 in test set\n",
    "11 in test.shop_id.unique()"
   ]
  },
  {
   "cell_type": "code",
   "execution_count": 20,
   "metadata": {},
   "outputs": [],
   "source": [
    "# replase shop 11 with 10\n",
    "sales.loc[sales.shop_id == 11, \"shop_id\"] = 10"
   ]
  },
  {
   "cell_type": "code",
   "execution_count": 21,
   "metadata": {},
   "outputs": [],
   "source": [
    "# drop bad shops\n",
    "shops.drop([0, 1, 11], inplace=True)"
   ]
  },
  {
   "cell_type": "markdown",
   "metadata": {},
   "source": [
    "#### Shops featues"
   ]
  },
  {
   "cell_type": "code",
   "execution_count": 22,
   "metadata": {},
   "outputs": [
    {
     "data": {
      "text/plain": [
       "array(['Адыгея', 'Балашиха', 'Волжский', 'Вологда', 'Воронеж', 'Выездная',\n",
       "       'Жуковский', 'Интернет-магазин', 'Казань', 'Калуга', 'Коломна',\n",
       "       'Красноярск', 'Курск', 'Москва', 'Мытищи', 'Н.Новгород',\n",
       "       'Новосибирск', 'Омск', 'РостовНаДону', 'СПб', 'Самара', 'Сергиев',\n",
       "       'Сургут', 'Томск', 'Тюмень', 'Уфа', 'Химки', 'Цифровой', 'Чехов',\n",
       "       'Якутск', 'Ярославль'], dtype=object)"
      ]
     },
     "execution_count": 22,
     "metadata": {},
     "output_type": "execute_result"
    }
   ],
   "source": [
    "# First part of shop_name is city\n",
    "shops.shop_name.str.split().apply(lambda x: x[0]).unique()"
   ]
  },
  {
   "cell_type": "code",
   "execution_count": 23,
   "metadata": {},
   "outputs": [],
   "source": [
    "shops['city'] = shops.shop_name.str.split().apply(lambda x: x[0].strip())"
   ]
  },
  {
   "cell_type": "code",
   "execution_count": 24,
   "metadata": {},
   "outputs": [
    {
     "name": "stdout",
     "output_type": "stream",
     "text": [
      "<class 'pandas.core.frame.DataFrame'>\n",
      "Int64Index: 57 entries, 2 to 59\n",
      "Data columns (total 2 columns):\n",
      "shop_id    57 non-null int8\n",
      "city       57 non-null int8\n",
      "dtypes: int8(2)\n",
      "memory usage: 570.0 bytes\n"
     ]
    }
   ],
   "source": [
    "# Drop, encode and downcast\n",
    "shops.drop(\"shop_name\", axis=1, inplace=True)\n",
    "shops.city = preprocessing.LabelEncoder().fit_transform(shops.city)\n",
    "shops = downcaster(shops)\n",
    "shops.info()"
   ]
  },
  {
   "cell_type": "markdown",
   "metadata": {},
   "source": [
    "## Items"
   ]
  },
  {
   "cell_type": "code",
   "execution_count": 25,
   "metadata": {},
   "outputs": [
    {
     "name": "stdout",
     "output_type": "stream",
     "text": [
      "<class 'pandas.core.frame.DataFrame'>\n",
      "RangeIndex: 22170 entries, 0 to 22169\n",
      "Data columns (total 2 columns):\n",
      "item_id             22170 non-null int16\n",
      "item_category_id    22170 non-null int8\n",
      "dtypes: int16(1), int8(1)\n",
      "memory usage: 65.0 KB\n"
     ]
    }
   ],
   "source": [
    "# Drop, encode and downcast\n",
    "items.drop(\"item_name\", axis=1, inplace=True)\n",
    "items = downcaster(items)\n",
    "items.info()"
   ]
  },
  {
   "cell_type": "markdown",
   "metadata": {},
   "source": [
    "## Make sales like Test"
   ]
  },
  {
   "cell_type": "markdown",
   "metadata": {},
   "source": [
    "We use cliped item_cnt - no need to remove outliers."
   ]
  },
  {
   "cell_type": "code",
   "execution_count": 26,
   "metadata": {},
   "outputs": [],
   "source": [
    "# Aggregate\n",
    "state_columns = [\"date_block_num\", \"shop_id\", \"item_id\"]\n",
    "sales.drop(\"item_price\", axis=1, inplace=True)\n",
    "sales = sales.groupby(state_columns, as_index=False).sum()"
   ]
  },
  {
   "cell_type": "code",
   "execution_count": 27,
   "metadata": {},
   "outputs": [],
   "source": [
    "# Rename target\n",
    "new_columns = sales.columns.tolist()\n",
    "new_columns[-1] = \"y\"\n",
    "sales.columns = new_columns"
   ]
  },
  {
   "cell_type": "code",
   "execution_count": 28,
   "metadata": {},
   "outputs": [
    {
     "data": {
      "text/plain": [
       "(5100, 42, True)"
      ]
     },
     "execution_count": 28,
     "metadata": {},
     "output_type": "execute_result"
    }
   ],
   "source": [
    "# Test set consists of 5100 items for 42 shops\n",
    "(\n",
    "    len(test.item_id.unique()), \n",
    "    len(test.shop_id.unique()), \n",
    "    len(test.item_id.unique()) * (len(test.shop_id.unique())) == len(test)\n",
    ")"
   ]
  },
  {
   "cell_type": "code",
   "execution_count": 29,
   "metadata": {},
   "outputs": [
    {
     "data": {
      "text/plain": [
       "(21807, 57)"
      ]
     },
     "execution_count": 29,
     "metadata": {},
     "output_type": "execute_result"
    }
   ],
   "source": [
    "# Sale set consists of 21807 items for 60 shops\n",
    "len(sales.item_id.unique()), len(sales.shop_id.unique())"
   ]
  },
  {
   "cell_type": "code",
   "execution_count": 30,
   "metadata": {},
   "outputs": [
    {
     "data": {
      "text/plain": [
       "363"
      ]
     },
     "execution_count": 30,
     "metadata": {},
     "output_type": "execute_result"
    }
   ],
   "source": [
    "# There are new items in test set\n",
    "len(set(test.item_id.unique()) - set(sales.item_id.unique()))"
   ]
  },
  {
   "cell_type": "code",
   "execution_count": 31,
   "metadata": {},
   "outputs": [],
   "source": [
    "# Try drop some shops and items from sales set and add new items to make both sets similar\n",
    "test_combinations = itertools.product(\n",
    "    sales.date_block_num.unique(),\n",
    "    test.shop_id.unique(),\n",
    "    test.item_id.unique()\n",
    ")\n",
    "data = pd.DataFrame(\n",
    "    list(test_combinations),\n",
    "    columns=state_columns\n",
    ")\n",
    "data = data.merge(sales, on=state_columns, how=\"left\")\n",
    "data.y = data.y.fillna(0)"
   ]
  },
  {
   "cell_type": "code",
   "execution_count": 32,
   "metadata": {},
   "outputs": [
    {
     "name": "stdout",
     "output_type": "stream",
     "text": [
      "<class 'pandas.core.frame.DataFrame'>\n",
      "Int64Index: 7282800 entries, 0 to 7282799\n",
      "Data columns (total 4 columns):\n",
      "date_block_num    int8\n",
      "shop_id           int8\n",
      "item_id           int16\n",
      "y                 float32\n",
      "dtypes: float32(1), int16(1), int8(2)\n",
      "memory usage: 111.1 MB\n"
     ]
    }
   ],
   "source": [
    "# downcast and clip to [0, 20]\n",
    "data.loc[:, \"y\"] = data.y.clip(0, 20)\n",
    "data = downcaster(data)\n",
    "data.info()"
   ]
  },
  {
   "cell_type": "markdown",
   "metadata": {},
   "source": [
    "## Stack Sales and Test"
   ]
  },
  {
   "cell_type": "code",
   "execution_count": 33,
   "metadata": {},
   "outputs": [],
   "source": [
    "# add date_block_num to test\n",
    "test_date_block = data.date_block_num.max() + 1\n",
    "test[\"date_block_num\"] = test_date_block\n",
    "test = downcaster(test)"
   ]
  },
  {
   "cell_type": "code",
   "execution_count": 34,
   "metadata": {},
   "outputs": [],
   "source": [
    "# stack train and test data\n",
    "data = pd.concat([data, test], axis=0, sort=False)"
   ]
  },
  {
   "cell_type": "markdown",
   "metadata": {},
   "source": [
    "## Merge all data"
   ]
  },
  {
   "cell_type": "code",
   "execution_count": 35,
   "metadata": {},
   "outputs": [],
   "source": [
    "data = data.merge(shops, how=\"left\", on=\"shop_id\")\n",
    "data = data.merge(items, how=\"left\", on=\"item_id\")\n",
    "data = data.merge(cat, how=\"left\", on=\"item_category_id\")"
   ]
  },
  {
   "cell_type": "markdown",
   "metadata": {},
   "source": [
    "# Feature generation"
   ]
  },
  {
   "cell_type": "markdown",
   "metadata": {},
   "source": [
    "## Seasonality"
   ]
  },
  {
   "cell_type": "code",
   "execution_count": 36,
   "metadata": {},
   "outputs": [],
   "source": [
    "montly_agg = data.groupby(\"date_block_num\")[\"y\"].sum().iloc[:-1]"
   ]
  },
  {
   "cell_type": "code",
   "execution_count": 37,
   "metadata": {
    "scrolled": true
   },
   "outputs": [
    {
     "data": {
      "text/plain": [
       "<matplotlib.axes._subplots.AxesSubplot at 0x10e7cc9b0>"
      ]
     },
     "execution_count": 37,
     "metadata": {},
     "output_type": "execute_result"
    },
    {
     "data": {
      "image/png": "[encoded data removed]",
      "text/plain": [
       "<Figure size 432x288 with 1 Axes>"
      ]
     },
     "metadata": {
      "needs_background": "light"
     },
     "output_type": "display_data"
    }
   ],
   "source": [
    "# Seasonality\n",
    "montly_agg.plot()"
   ]
  },
  {
   "cell_type": "code",
   "execution_count": 38,
   "metadata": {},
   "outputs": [],
   "source": [
    "# Add month feature\n",
    "data[\"month\"] = data.date_block_num % 12"
   ]
  },
  {
   "cell_type": "code",
   "execution_count": 39,
   "metadata": {},
   "outputs": [
    {
     "data": {
      "image/png": "[encoded data removed]",
      "text/plain": [
       "<Figure size 432x288 with 1 Axes>"
      ]
     },
     "metadata": {
      "needs_background": "light"
     },
     "output_type": "display_data"
    }
   ],
   "source": [
    "_ = sm.graphics.tsaplots.plot_acf(montly_agg, lags=12)"
   ]
  },
  {
   "cell_type": "code",
   "execution_count": 40,
   "metadata": {},
   "outputs": [],
   "source": [
    "def make_lags(df, lag_col_name, lags):\n",
    "    for i in sorted(lags):\n",
    "        lagger = df[state_columns + [lag_col_name]]\n",
    "        lagger.loc[:, \"date_block_num\"] += i\n",
    "        lagger.columns = lagger.columns[:-1].tolist() + [f\"{lag_col_name}_{i}\"]\n",
    "        df = df.merge(lagger, on=state_columns, how='left')\n",
    "    return df"
   ]
  },
  {
   "cell_type": "code",
   "execution_count": 41,
   "metadata": {},
   "outputs": [],
   "source": [
    "# Add some first lags and year ago\n",
    "data = make_lags(data, \"y\", [1, 2, 3, 4, 13])"
   ]
  },
  {
   "cell_type": "code",
   "execution_count": 42,
   "metadata": {
    "scrolled": true
   },
   "outputs": [
    {
     "data": {
      "text/plain": [
       "(-2.132157497160812,\n",
       " 0.23178200425279727,\n",
       " 0,\n",
       " 33,\n",
       " {'1%': -3.6461350877925254,\n",
       "  '5%': -2.954126991123355,\n",
       "  '10%': -2.6159676124885216},\n",
       " 491.5327212008761)"
      ]
     },
     "execution_count": 42,
     "metadata": {},
     "output_type": "execute_result"
    }
   ],
   "source": [
    "# Weak sign of unit root\n",
    "sm.tsa.stattools.adfuller(montly_agg)"
   ]
  },
  {
   "cell_type": "code",
   "execution_count": 43,
   "metadata": {},
   "outputs": [],
   "source": [
    "# Add first diff an year diff\n",
    "data[\"diff_y1_y2\"] = data[\"y_1\"] - data[\"y_2\"]\n",
    "data[\"diff_y1_y13\"] = data[\"y_1\"] - data[\"y_13\"]\n",
    "data.drop(\"y_13\", axis=1, inplace=True)"
   ]
  },
  {
   "cell_type": "markdown",
   "metadata": {},
   "source": [
    "## Leaks"
   ]
  },
  {
   "cell_type": "markdown",
   "metadata": {},
   "source": [
    "### We are asked about sellable items"
   ]
  },
  {
   "cell_type": "code",
   "execution_count": 44,
   "metadata": {},
   "outputs": [],
   "source": [
    "# was this item sold at given date?\n",
    "tmp = data.groupby([\"item_id\", \"date_block_num\"], as_index=False).agg({\"y\": \"max\"})\n",
    "tmp[\"item_sold\"] = tmp.y > 0\n",
    "tmp.drop(\"y\", axis=1, inplace=True)"
   ]
  },
  {
   "cell_type": "code",
   "execution_count": 45,
   "metadata": {},
   "outputs": [],
   "source": [
    "# let's guess we make prediction for sellable items\n",
    "tmp.loc[tmp.date_block_num == tmp.date_block_num.max(), \"item_sold\"] = True"
   ]
  },
  {
   "cell_type": "code",
   "execution_count": 46,
   "metadata": {},
   "outputs": [],
   "source": [
    "# add feature\n",
    "data = data.merge(tmp, how='left', on=[\"item_id\", \"date_block_num\"])"
   ]
  },
  {
   "cell_type": "markdown",
   "metadata": {},
   "source": [
    "### Let's mark new items for every date_block_num"
   ]
  },
  {
   "cell_type": "code",
   "execution_count": 47,
   "metadata": {},
   "outputs": [],
   "source": [
    "# get new items for every date_block_num\n",
    "new_matrix = []\n",
    "old_items = set()\n",
    "for num in sorted(sales.date_block_num.unique()):\n",
    "    date_items = set(sales[sales.date_block_num == num].item_id.unique())\n",
    "    if not num:\n",
    "        old_items = date_items\n",
    "        continue\n",
    "    new_items = date_items - old_items\n",
    "    new_matrix.extend(\n",
    "        itertools.product(\n",
    "            [num],\n",
    "            new_items\n",
    "        )\n",
    "    )\n",
    "    old_items |= date_items"
   ]
  },
  {
   "cell_type": "code",
   "execution_count": 48,
   "metadata": {},
   "outputs": [],
   "source": [
    "# guess new items for test\n",
    "new_items = set(test.item_id.unique()) - old_items\n",
    "new_matrix.extend(\n",
    "    itertools.product(\n",
    "        [test_date_block],\n",
    "        new_items\n",
    "    )\n",
    ")"
   ]
  },
  {
   "cell_type": "code",
   "execution_count": 49,
   "metadata": {},
   "outputs": [],
   "source": [
    "# make feature\n",
    "tmp = pd.DataFrame(new_matrix, columns=[\"date_block_num\", \"item_id\"])\n",
    "tmp[\"new_item\"] = True"
   ]
  },
  {
   "cell_type": "code",
   "execution_count": 50,
   "metadata": {},
   "outputs": [],
   "source": [
    "data = data.merge(tmp, how='left', on=[\"item_id\", \"date_block_num\"])\n",
    "data[\"new_item\"] = data[\"new_item\"].fillna(False)"
   ]
  },
  {
   "cell_type": "markdown",
   "metadata": {},
   "source": [
    "## Add some proxi sales mean encoded features"
   ]
  },
  {
   "cell_type": "markdown",
   "metadata": {},
   "source": [
    "### Mean for every item and date"
   ]
  },
  {
   "cell_type": "code",
   "execution_count": 51,
   "metadata": {},
   "outputs": [],
   "source": [
    "tmp = data.groupby([\"item_id\", \"date_block_num\"], as_index=False).y.mean()\n",
    "tmp.columns = tmp.columns.tolist()[:-1] + [\"item_date_y\"]\n",
    "data = data.merge(tmp, on=[\"item_id\", \"date_block_num\"], how='left')"
   ]
  },
  {
   "cell_type": "code",
   "execution_count": 52,
   "metadata": {},
   "outputs": [],
   "source": [
    "# Add some laggs and drop column\n",
    "data = make_lags(data, \"item_date_y\", [1, 2, 3])\n",
    "data.drop(\"item_date_y\", axis=1, inplace=True)"
   ]
  },
  {
   "cell_type": "markdown",
   "metadata": {},
   "source": [
    "### Mean for shop and date"
   ]
  },
  {
   "cell_type": "code",
   "execution_count": 53,
   "metadata": {},
   "outputs": [],
   "source": [
    "tmp = data.groupby([\"shop_id\", \"date_block_num\"], as_index=False).y.mean()\n",
    "tmp.columns = tmp.columns.tolist()[:-1] + [\"shop_date_y\"]\n",
    "data = data.merge(tmp, on=[\"shop_id\", \"date_block_num\"], how='left')"
   ]
  },
  {
   "cell_type": "code",
   "execution_count": 54,
   "metadata": {},
   "outputs": [],
   "source": [
    "# Add some laggs and drop column\n",
    "data = make_lags(data, \"shop_date_y\", [1, 2, 12])\n",
    "data.drop(\"shop_date_y\", axis=1, inplace=True)"
   ]
  },
  {
   "cell_type": "markdown",
   "metadata": {},
   "source": [
    "### Mean for shop, category and date"
   ]
  },
  {
   "cell_type": "code",
   "execution_count": 55,
   "metadata": {},
   "outputs": [],
   "source": [
    "tmp = data.groupby([\"shop_id\", \"item_category_id\", \"date_block_num\"], as_index=False).y.mean()\n",
    "tmp.columns = tmp.columns.tolist()[:-1] + [\"shop_cat_date_y\"]\n",
    "data = data.merge(tmp, on=[\"shop_id\", \"item_category_id\", \"date_block_num\"], how='left')"
   ]
  },
  {
   "cell_type": "code",
   "execution_count": 56,
   "metadata": {},
   "outputs": [],
   "source": [
    "# Add some laggs and drop column\n",
    "data = make_lags(data, \"shop_cat_date_y\", [1, 2, 3])\n",
    "data.drop(\"shop_cat_date_y\", axis=1, inplace=True)"
   ]
  },
  {
   "cell_type": "markdown",
   "metadata": {},
   "source": [
    "### Mean for category and date"
   ]
  },
  {
   "cell_type": "code",
   "execution_count": 57,
   "metadata": {},
   "outputs": [],
   "source": [
    "tmp = data.groupby([\"item_category_id\", \"date_block_num\"], as_index=False).y.mean()\n",
    "tmp.columns = tmp.columns.tolist()[:-1] + [\"cat_date_y\"]\n",
    "data = data.merge(tmp, on=[\"item_category_id\", \"date_block_num\"], how='left')"
   ]
  },
  {
   "cell_type": "code",
   "execution_count": 58,
   "metadata": {},
   "outputs": [],
   "source": [
    "# Add some laggs and drop column\n",
    "data = make_lags(data, \"cat_date_y\", [1, 2, 3])\n",
    "data.drop(\"cat_date_y\", axis=1, inplace=True)"
   ]
  },
  {
   "cell_type": "markdown",
   "metadata": {},
   "source": [
    "### Cummean shop and item"
   ]
  },
  {
   "cell_type": "code",
   "execution_count": 59,
   "metadata": {},
   "outputs": [],
   "source": [
    "tmp = data.groupby([\"shop_id\", \"item_id\"])[[\"y\"]].cumsum()\n",
    "tmp.columns = [\"cummean_shop_item_y\"]\n",
    "tmp[\"date_block_num\"] = data[\"date_block_num\"] + 1\n",
    "tmp[\"cummean_shop_item_y\"] = tmp[\"cummean_shop_item_y\"] / tmp[\"date_block_num\"]\n",
    "tmp[\"shop_id\"] = data[\"shop_id\"]\n",
    "tmp[\"item_id\"] = data[\"item_id\"]\n",
    "data = data.merge(tmp, on=[\"shop_id\", \"item_id\", \"date_block_num\"], how='left')"
   ]
  },
  {
   "cell_type": "markdown",
   "metadata": {},
   "source": [
    "## Prices"
   ]
  },
  {
   "cell_type": "code",
   "execution_count": 60,
   "metadata": {},
   "outputs": [
    {
     "data": {
      "text/html": [
       "<div>\n",
       "<style scoped>\n",
       "    .dataframe tbody tr th:only-of-type {\n",
       "        vertical-align: middle;\n",
       "    }\n",
       "\n",
       "    .dataframe tbody tr th {\n",
       "        vertical-align: top;\n",
       "    }\n",
       "\n",
       "    .dataframe thead th {\n",
       "        text-align: right;\n",
       "    }\n",
       "</style>\n",
       "<table border=\"1\" class=\"dataframe\">\n",
       "  <thead>\n",
       "    <tr style=\"text-align: right;\">\n",
       "      <th></th>\n",
       "      <th>date</th>\n",
       "      <th>date_block_num</th>\n",
       "      <th>shop_id</th>\n",
       "      <th>item_id</th>\n",
       "      <th>item_price</th>\n",
       "      <th>item_cnt_day</th>\n",
       "    </tr>\n",
       "  </thead>\n",
       "  <tbody>\n",
       "    <tr>\n",
       "      <th>484683</th>\n",
       "      <td>2013-05-15</td>\n",
       "      <td>4</td>\n",
       "      <td>32</td>\n",
       "      <td>2973</td>\n",
       "      <td>-1.0</td>\n",
       "      <td>1.0</td>\n",
       "    </tr>\n",
       "  </tbody>\n",
       "</table>\n",
       "</div>"
      ],
      "text/plain": [
       "             date  date_block_num  shop_id  item_id  item_price  item_cnt_day\n",
       "484683 2013-05-15               4       32     2973        -1.0           1.0"
      ]
     },
     "execution_count": 60,
     "metadata": {},
     "output_type": "execute_result"
    }
   ],
   "source": [
    "# I am going to use log prices - so should remove negative price\n",
    "prices[prices.item_price <=0]"
   ]
  },
  {
   "cell_type": "code",
   "execution_count": 61,
   "metadata": {},
   "outputs": [],
   "source": [
    "# drop negative price and unused columns\n",
    "prices.drop(484683, inplace=True)\n",
    "prices.drop([\"date\", \"item_cnt_day\"], axis=1, inplace=True)"
   ]
  },
  {
   "cell_type": "code",
   "execution_count": 62,
   "metadata": {},
   "outputs": [],
   "source": [
    "# take log\n",
    "prices.item_price = prices.item_price.apply(np.log)"
   ]
  },
  {
   "cell_type": "code",
   "execution_count": 63,
   "metadata": {},
   "outputs": [],
   "source": [
    "# let's aggregate with more robust median and downcast\n",
    "prices = downcaster(prices.groupby(state_columns, as_index=False).median())"
   ]
  },
  {
   "cell_type": "code",
   "execution_count": 64,
   "metadata": {},
   "outputs": [],
   "source": [
    "# add to data\n",
    "data = data.merge(prices, on=state_columns, how='left')"
   ]
  },
  {
   "cell_type": "markdown",
   "metadata": {},
   "source": [
    "### Price discount in shop"
   ]
  },
  {
   "cell_type": "code",
   "execution_count": 65,
   "metadata": {},
   "outputs": [],
   "source": [
    "# add median of all shops\n",
    "tmp = data.groupby([\"item_id\", \"date_block_num\"]).item_price.median()\n",
    "tmp.name = \"avr_price\"\n",
    "data = data.merge(tmp.to_frame(), left_on=[\"item_id\", \"date_block_num\"], right_index=True, how='left')"
   ]
  },
  {
   "cell_type": "code",
   "execution_count": 66,
   "metadata": {},
   "outputs": [],
   "source": [
    "# add discont\n",
    "data[\"price_discount\"] = data.item_price - data.avr_price\n",
    "data[\"price_discount\"] = data[\"price_discount\"].fillna(0)"
   ]
  },
  {
   "cell_type": "code",
   "execution_count": 67,
   "metadata": {},
   "outputs": [],
   "source": [
    "# lag it\n",
    "data = make_lags(data, \"price_discount\", [1])\n",
    "data.drop(\"price_discount\", axis=1, inplace=True)"
   ]
  },
  {
   "cell_type": "markdown",
   "metadata": {},
   "source": [
    "### Price growth"
   ]
  },
  {
   "cell_type": "code",
   "execution_count": 68,
   "metadata": {},
   "outputs": [],
   "source": [
    "price_lags = [1, 2, 3, 5, 6]"
   ]
  },
  {
   "cell_type": "code",
   "execution_count": 69,
   "metadata": {},
   "outputs": [],
   "source": [
    "data = make_lags(data, \"avr_price\", price_lags)\n",
    "data.drop([\"item_price\", \"avr_price\"], axis=1, inplace=True)"
   ]
  },
  {
   "cell_type": "code",
   "execution_count": 70,
   "metadata": {},
   "outputs": [],
   "source": [
    "for i in price_lags:\n",
    "    if i == 1:\n",
    "        continue\n",
    "    data[f\"price_growth_1_{i}\"] = data[\"avr_price_1\"] - data[f\"avr_price_{i}\"]\n",
    "    data[f\"price_growth_1_{i}\"] = data[f\"price_growth_1_{i}\"].fillna(0)\n",
    "    data.drop(f\"avr_price_{i}\", axis=1, inplace=True)\n",
    "data.drop(\"avr_price_1\", axis=1, inplace=True)"
   ]
  },
  {
   "cell_type": "markdown",
   "metadata": {},
   "source": [
    "# Save processed data"
   ]
  },
  {
   "cell_type": "code",
   "execution_count": 71,
   "metadata": {},
   "outputs": [],
   "source": [
    "# drop data with NaN in lags\n",
    "data.dropna(subset=list(set(data.columns) - set(\"y\")), inplace=True)\n",
    "# Drop bad features\n",
    "data.drop([\"city\"], axis=1, inplace=True)"
   ]
  },
  {
   "cell_type": "code",
   "execution_count": 73,
   "metadata": {},
   "outputs": [],
   "source": [
    "processed_path = f\"./processed_data/data_{__ver__}.pickle\"\n",
    "data.to_pickle(processed_path)"
   ]
  },
  {
   "cell_type": "markdown",
   "metadata": {},
   "source": [
    "# Load processed data"
   ]
  },
  {
   "cell_type": "code",
   "execution_count": 6,
   "metadata": {},
   "outputs": [],
   "source": [
    "processed_path = f\"./processed_data/data_{__ver__}.pickle\"\n",
    "data = pd.read_pickle(processed_path)"
   ]
  },
  {
   "cell_type": "markdown",
   "metadata": {},
   "source": [
    "# Validation strategies"
   ]
  },
  {
   "cell_type": "markdown",
   "metadata": {},
   "source": [
    "Validation strategy:\n",
    "\n",
    "* Train - all months except last one in the training set\n",
    "* Validate - a last month in the training set\n",
    "* Test - a test set"
   ]
  },
  {
   "cell_type": "code",
   "execution_count": 8,
   "metadata": {},
   "outputs": [
    {
     "name": "stdout",
     "output_type": "stream",
     "text": [
      "<class 'pandas.core.frame.DataFrame'>\n",
      "Int64Index: 4712400 entries, 2784600 to 7496999\n",
      "Data columns (total 34 columns):\n",
      "date_block_num         int8\n",
      "shop_id                int8\n",
      "item_id                int16\n",
      "y                      float32\n",
      "item_category_id       int8\n",
      "category_group         int8\n",
      "sub_category           int8\n",
      "month                  int8\n",
      "y_1                    float32\n",
      "y_2                    float32\n",
      "y_3                    float32\n",
      "y_4                    float32\n",
      "diff_y1_y2             float32\n",
      "diff_y1_y13            float32\n",
      "item_sold              bool\n",
      "new_item               bool\n",
      "item_date_y_1          float32\n",
      "item_date_y_2          float32\n",
      "item_date_y_3          float32\n",
      "shop_date_y_1          float32\n",
      "shop_date_y_2          float32\n",
      "shop_date_y_12         float32\n",
      "shop_cat_date_y_1      float32\n",
      "shop_cat_date_y_2      float32\n",
      "shop_cat_date_y_3      float32\n",
      "cat_date_y_1           float32\n",
      "cat_date_y_2           float32\n",
      "cat_date_y_3           float32\n",
      "cummean_shop_item_y    float32\n",
      "price_discount_1       float32\n",
      "price_growth_1_2       float32\n",
      "price_growth_1_3       float32\n",
      "price_growth_1_5       float32\n",
      "price_growth_1_6       float32\n",
      "dtypes: bool(2), float32(25), int16(1), int8(6)\n",
      "memory usage: 530.3 MB\n"
     ]
    }
   ],
   "source": [
    "data.info()"
   ]
  },
  {
   "cell_type": "code",
   "execution_count": 10,
   "metadata": {},
   "outputs": [],
   "source": [
    "val_range = 1\n",
    "test_date_block = data.date_block_num.max()\n",
    "\n",
    "x_train = data[data.date_block_num < test_date_block - val_range].drop(\"y\", axis=1)\n",
    "y_train = data.loc[data.date_block_num < test_date_block - val_range, \"y\"]\n",
    "\n",
    "mask = (test_date_block - val_range <= data.date_block_num) & (data.date_block_num < test_date_block)\n",
    "x_valid = data[mask].drop(\"y\", axis=1)\n",
    "y_valid = data.loc[mask, \"y\"]\n",
    "\n",
    "x_test = data[data.date_block_num == test_date_block].drop(\"y\", axis=1)"
   ]
  },
  {
   "cell_type": "code",
   "execution_count": 26,
   "metadata": {},
   "outputs": [
    {
     "data": {
      "text/plain": [
       "[0, 1, 2, 3, 4, 5, 6, 13, 14]"
      ]
     },
     "execution_count": 26,
     "metadata": {},
     "output_type": "execute_result"
    }
   ],
   "source": [
    "cat_columns = [i for i, col in enumerate(x_train) if not issubclass(x_train[col].dtype.type, np.floating)]\n",
    "cat_columns"
   ]
  },
  {
   "cell_type": "markdown",
   "metadata": {},
   "source": [
    "# Catboost"
   ]
  },
  {
   "cell_type": "markdown",
   "metadata": {},
   "source": [
    "I tried base parameters and then use hyper_catboost.py to optimise them - the result was pretty much the same. So I will use default parameters."
   ]
  },
  {
   "cell_type": "markdown",
   "metadata": {},
   "source": [
    "**Public Leaderboard:** - 0.93440"
   ]
  },
  {
   "cell_type": "code",
   "execution_count": null,
   "metadata": {
    "scrolled": false
   },
   "outputs": [],
   "source": [
    "clf_params = dict(\n",
    "    random_state=284704,\n",
    "    od_type=\"Iter\",\n",
    "    od_wait=20,\n",
    "    verbose=10,\n",
    "    learning_rate=0.1,\n",
    "    iterations=200,\n",
    ")\n",
    "\n",
    "clf = catboost.CatBoostRegressor(**clf_params)\n",
    "\n",
    "fit_params = dict(\n",
    "    X=x_train, \n",
    "    y=y_train,\n",
    "    cat_features=cat_columns,\n",
    "    eval_set=(x_valid, y_valid),\n",
    "    plot=True\n",
    ")\n",
    "\n",
    "clf.fit(**fit_params)"
   ]
  },
  {
   "cell_type": "code",
   "execution_count": null,
   "metadata": {},
   "outputs": [],
   "source": [
    "# 0.816\n",
    "for i, v in clf.get_feature_importance(prettified=True):\n",
    "     print(i.ljust(20), v)"
   ]
  },
  {
   "cell_type": "code",
   "execution_count": null,
   "metadata": {},
   "outputs": [],
   "source": [
    "for i, j, value in clf.get_feature_importance(fstr_type=\"Interaction\", prettified=True)[:10]:\n",
    "    print(x_train.columns[i].ljust(20), x_train.columns[j].ljust(20), value)"
   ]
  },
  {
   "cell_type": "markdown",
   "metadata": {},
   "source": [
    "# Base XGBoost"
   ]
  },
  {
   "cell_type": "code",
   "execution_count": 24,
   "metadata": {},
   "outputs": [
    {
     "name": "stdout",
     "output_type": "stream",
     "text": [
      "[0]\tvalidation_0-rmse:1.07739\tvalidation_1-rmse:1.06319\n",
      "Multiple eval metrics have been passed: 'validation_1-rmse' will be used for early stopping.\n",
      "\n",
      "Will train until validation_1-rmse hasn't improved in 20 rounds.\n",
      "[10]\tvalidation_0-rmse:0.790228\tvalidation_1-rmse:0.844043\n",
      "[20]\tvalidation_0-rmse:0.728914\tvalidation_1-rmse:0.817367\n",
      "[30]\tvalidation_0-rmse:0.709088\tvalidation_1-rmse:0.813437\n",
      "[40]\tvalidation_0-rmse:0.701002\tvalidation_1-rmse:0.815606\n",
      "[50]\tvalidation_0-rmse:0.695958\tvalidation_1-rmse:0.81551\n",
      "Stopping. Best iteration:\n",
      "[30]\tvalidation_0-rmse:0.709088\tvalidation_1-rmse:0.813437\n",
      "\n"
     ]
    },
    {
     "data": {
      "text/plain": [
       "XGBRegressor(base_score=0.5, booster='gbtree', colsample_bylevel=1,\n",
       "       colsample_bytree=1, gamma=0, learning_rate=0.1, max_delta_step=0,\n",
       "       max_depth=8, min_child_weight=300, missing=None, n_estimators=200,\n",
       "       n_jobs=1, nthread=None, objective='reg:linear', random_state=284704,\n",
       "       reg_alpha=0, reg_lambda=1, scale_pos_weight=1, seed=None,\n",
       "       silent=True, subsample=1)"
      ]
     },
     "execution_count": 24,
     "metadata": {},
     "output_type": "execute_result"
    }
   ],
   "source": [
    "clf_params = dict(\n",
    "    random_state=284704,\n",
    "    learning_rate=0.1,\n",
    "    n_estimators=200,\n",
    "    max_depth=8,\n",
    "    min_child_weight=300, \n",
    ")\n",
    "clf = xgboost.XGBRegressor(**clf_params)\n",
    "\n",
    "clf.fit(\n",
    "    x_train, \n",
    "    y_train, \n",
    "    eval_metric=\"rmse\", \n",
    "    early_stopping_rounds=20,\n",
    "    eval_set=[(x_train, y_train), (x_valid, y_valid)], \n",
    "    verbose=10)"
   ]
  },
  {
   "cell_type": "code",
   "execution_count": 25,
   "metadata": {},
   "outputs": [
    {
     "data": {
      "text/plain": [
       "<matplotlib.axes._subplots.AxesSubplot at 0x16dbb55f8>"
      ]
     },
     "execution_count": 25,
     "metadata": {},
     "output_type": "execute_result"
    },
    {
     "data": {
      "image/png": "[encoded data removed]",
      "text/plain": [
       "<Figure size 720x1008 with 1 Axes>"
      ]
     },
     "metadata": {
      "needs_background": "light"
     },
     "output_type": "display_data"
    }
   ],
   "source": [
    "fig, ax = plt.subplots(1, 1, figsize=(10, 14))\n",
    "xgboost.plot_importance(clf_dart, ax=ax)"
   ]
  },
  {
   "cell_type": "markdown",
   "metadata": {},
   "source": [
    "**Results:**\n",
    "\n",
    "Public Leaderboard (base params) - base: 0.95460"
   ]
  },
  {
   "cell_type": "markdown",
   "metadata": {},
   "source": [
    "# Submission"
   ]
  },
  {
   "cell_type": "code",
   "execution_count": 21,
   "metadata": {},
   "outputs": [],
   "source": [
    "sub_df = pd.DataFrame(\n",
    "    clf.predict(x_test), \n",
    "    index=test.index, \n",
    "    columns=[\"item_cnt_month\"]\n",
    ").clip(0, 20)\n",
    "sub_df.index.name = \"ID\""
   ]
  },
  {
   "cell_type": "code",
   "execution_count": 22,
   "metadata": {},
   "outputs": [],
   "source": [
    "sub_path = f\"./submissions/submission_{__ver__}.csv\"\n",
    "sub_df.to_csv(sub_path)"
   ]
  },
  {
   "cell_type": "markdown",
   "metadata": {},
   "source": [
    "## Hyperparameters tuning"
   ]
  },
  {
   "cell_type": "markdown",
   "metadata": {},
   "source": [
    "Only if you don’t have any more ideas or you have spare computational resources"
   ]
  },
  {
   "cell_type": "markdown",
   "metadata": {},
   "source": [
    "Average everything:\n",
    "\n",
    "* Over random seed\n",
    "* Or over small deviations from optimal parameters"
   ]
  },
  {
   "cell_type": "markdown",
   "metadata": {},
   "source": [
    "## Ensembling"
   ]
  },
  {
   "cell_type": "markdown",
   "metadata": {},
   "source": [
    "* Save all good models\n",
    "* Make diverse models"
   ]
  },
  {
   "cell_type": "markdown",
   "metadata": {},
   "source": [
    "* Averaging\n",
    "* Weighted averaging\n",
    "* Bagging (BaggingClassifier and BaggingRegressor from Sklearn, seed bagging)\n",
    "* Boosting (AdaBoostClassifier from Sklearn)\n",
    "* Stacking (Meta model should be modest)\n",
    "* StackNet\n",
    "    - Diversity of base algoritms\n",
    "    - Diversity of base data\n",
    "    - Simpler algoritms on higher levels\n",
    "    - Feature engineering of meta feature (differences, std ...)\n",
    "    - For every level 1model for 5-10 modelesin orivios level"
   ]
  }
 ],
 "metadata": {
  "kernelspec": {
   "display_name": "Python 3",
   "language": "python",
   "name": "python3"
  },
  "language_info": {
   "codemirror_mode": {
    "name": "ipython",
    "version": 3
   },
   "file_extension": ".py",
   "mimetype": "text/x-python",
   "name": "python",
   "nbconvert_exporter": "python",
   "pygments_lexer": "ipython3",
   "version": "3.7.2"
  }
 },
 "nbformat": 4,
 "nbformat_minor": 2
}
