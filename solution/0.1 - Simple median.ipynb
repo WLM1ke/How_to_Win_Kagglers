{
 "cells": [
  {
   "cell_type": "markdown",
   "metadata": {},
   "source": [
    "# Project name: [Predict Future Sales](https://www.kaggle.com/c/competitive-data-science-predict-future-sales)"
   ]
  },
  {
   "cell_type": "markdown",
   "metadata": {},
   "source": [
    "## Objective"
   ]
  },
  {
   "cell_type": "markdown",
   "metadata": {},
   "source": [
    "Get better than 1.05 score on [Public Leaderboard](https://www.kaggle.com/c/competitive-data-science-predict-future-sales/leaderboard)"
   ]
  },
  {
   "cell_type": "markdown",
   "metadata": {},
   "source": [
    "## Version"
   ]
  },
  {
   "cell_type": "markdown",
   "metadata": {},
   "source": [
    "Just simple median - score 1.41241"
   ]
  },
  {
   "cell_type": "code",
   "execution_count": 1,
   "metadata": {},
   "outputs": [],
   "source": [
    "__ver__ = \"0.1\""
   ]
  },
  {
   "cell_type": "markdown",
   "metadata": {},
   "source": [
    "## Setup"
   ]
  },
  {
   "cell_type": "code",
   "execution_count": 2,
   "metadata": {},
   "outputs": [],
   "source": [
    "import numpy as np\n",
    "import pandas as pd\n",
    "import catboost\n",
    "import sklearn\n",
    "import matplotlib.pyplot as plt\n",
    "%matplotlib inline \n",
    "\n",
    "import itertools"
   ]
  },
  {
   "cell_type": "markdown",
   "metadata": {},
   "source": [
    "# Data load"
   ]
  },
  {
   "cell_type": "code",
   "execution_count": 3,
   "metadata": {},
   "outputs": [],
   "source": [
    "# path\n",
    "cat_path = \"./raw_data/item_categories.csv\"\n",
    "items_path = \"./raw_data/items.csv\"\n",
    "shop_path = \"./raw_data/shops.csv\"\n",
    "sales_path = \"./raw_data/sales_train.csv.gz\"\n",
    "test_path = \"./raw_data/test.csv.gz\""
   ]
  },
  {
   "cell_type": "code",
   "execution_count": 4,
   "metadata": {},
   "outputs": [],
   "source": [
    "# load\n",
    "cat = pd.read_csv(cat_path)\n",
    "items = pd.read_csv(items_path)\n",
    "shops = pd.read_csv(shop_path)\n",
    "sales_params = dict(parse_dates=[0], infer_datetime_format = True, dayfirst=True)\n",
    "sales = pd.read_csv(sales_path, **sales_params)\n",
    "# load and save ID in index\n",
    "test = pd.read_csv(test_path).set_index('ID')"
   ]
  },
  {
   "cell_type": "markdown",
   "metadata": {},
   "source": [
    "## Monthly sales"
   ]
  },
  {
   "cell_type": "code",
   "execution_count": 5,
   "metadata": {},
   "outputs": [],
   "source": [
    "# drop columns - not in test\n",
    "sales.drop([\"date\", \"item_price\"], axis=1, inplace=True)"
   ]
  },
  {
   "cell_type": "code",
   "execution_count": 6,
   "metadata": {},
   "outputs": [],
   "source": [
    "# get monthly sales\n",
    "sales = sales.groupby([\"date_block_num\", \"shop_id\", \"item_id\"], as_index=False).sum()"
   ]
  },
  {
   "cell_type": "markdown",
   "metadata": {},
   "source": [
    "## Stack train and test data"
   ]
  },
  {
   "cell_type": "code",
   "execution_count": 7,
   "metadata": {},
   "outputs": [],
   "source": [
    "# add date_block_num to test\n",
    "test_date_block = sales.date_block_num.max() + 1\n",
    "test[\"date_block_num\"] = test_date_block"
   ]
  },
  {
   "cell_type": "code",
   "execution_count": 8,
   "metadata": {},
   "outputs": [
    {
     "name": "stdout",
     "output_type": "stream",
     "text": [
      "<class 'pandas.core.frame.DataFrame'>\n",
      "Int64Index: 1823324 entries, 0 to 214199\n",
      "Data columns (total 4 columns):\n",
      "date_block_num    int64\n",
      "shop_id           int64\n",
      "item_id           int64\n",
      "item_cnt_day      float64\n",
      "dtypes: float64(1), int64(3)\n",
      "memory usage: 69.6 MB\n"
     ]
    }
   ],
   "source": [
    "# stack train and test data\n",
    "data = pd.concat([sales, test], axis=0, sort=False)\n",
    "data.index.name = \"ID\"\n",
    "data.info()"
   ]
  },
  {
   "cell_type": "code",
   "execution_count": 9,
   "metadata": {},
   "outputs": [
    {
     "name": "stdout",
     "output_type": "stream",
     "text": [
      "<class 'pandas.core.frame.DataFrame'>\n",
      "Int64Index: 1823324 entries, 0 to 214199\n",
      "Data columns (total 4 columns):\n",
      "date_block_num    int8\n",
      "shop_id           category\n",
      "item_id           category\n",
      "item_cnt_day      float16\n",
      "dtypes: category(2), float16(1), int8(1)\n",
      "memory usage: 25.1 MB\n"
     ]
    }
   ],
   "source": [
    "# downcast types\n",
    "down_cast = dict(\n",
    "    date_block_num='int8',\n",
    "    shop_id='category',\n",
    "    item_id='category',\n",
    "    item_cnt_day='float16' # must be float - NaNs in test part\n",
    ")\n",
    "data = data.astype(down_cast)\n",
    "data.info()"
   ]
  },
  {
   "cell_type": "code",
   "execution_count": 10,
   "metadata": {},
   "outputs": [],
   "source": [
    "# save\n",
    "processed_path = f\"./processed_data/data_{__ver__}.pickle\"\n",
    "data.to_pickle(processed_path)"
   ]
  },
  {
   "cell_type": "markdown",
   "metadata": {},
   "source": [
    "## Load processed data"
   ]
  },
  {
   "cell_type": "code",
   "execution_count": 11,
   "metadata": {},
   "outputs": [
    {
     "name": "stdout",
     "output_type": "stream",
     "text": [
      "<class 'pandas.core.frame.DataFrame'>\n",
      "Int64Index: 1823324 entries, 0 to 214199\n",
      "Data columns (total 4 columns):\n",
      "date_block_num    int8\n",
      "shop_id           category\n",
      "item_id           category\n",
      "item_cnt_day      float16\n",
      "dtypes: category(2), float16(1), int8(1)\n",
      "memory usage: 24.5 MB\n"
     ]
    }
   ],
   "source": [
    "data = pd.read_pickle(processed_path)\n",
    "data.info()"
   ]
  },
  {
   "cell_type": "markdown",
   "metadata": {},
   "source": [
    "## Simple baseline solution"
   ]
  },
  {
   "cell_type": "code",
   "execution_count": 12,
   "metadata": {},
   "outputs": [],
   "source": [
    "# test_date_block\n",
    "baseline_sales = data.item_cnt_day[data.date_block_num < test_date_block].median()"
   ]
  },
  {
   "cell_type": "code",
   "execution_count": 13,
   "metadata": {},
   "outputs": [],
   "source": [
    "sub_index = data.index[data.date_block_num == test_date_block]"
   ]
  },
  {
   "cell_type": "code",
   "execution_count": 14,
   "metadata": {},
   "outputs": [],
   "source": [
    "sub_df = pd.DataFrame(baseline_sales, index=sub_index, columns=[\"item_cnt_month\"])"
   ]
  },
  {
   "cell_type": "markdown",
   "metadata": {},
   "source": [
    "## Submission"
   ]
  },
  {
   "cell_type": "code",
   "execution_count": 15,
   "metadata": {},
   "outputs": [],
   "source": [
    "sub_path = f\"./submissions/submission_{__ver__}.csv\"\n",
    "sub_df.to_csv(sub_path)"
   ]
  }
 ],
 "metadata": {
  "kernelspec": {
   "display_name": "Python 3",
   "language": "python",
   "name": "python3"
  },
  "language_info": {
   "codemirror_mode": {
    "name": "ipython",
    "version": 3
   },
   "file_extension": ".py",
   "mimetype": "text/x-python",
   "name": "python",
   "nbconvert_exporter": "python",
   "pygments_lexer": "ipython3",
   "version": "3.7.2"
  }
 },
 "nbformat": 4,
 "nbformat_minor": 2
}
