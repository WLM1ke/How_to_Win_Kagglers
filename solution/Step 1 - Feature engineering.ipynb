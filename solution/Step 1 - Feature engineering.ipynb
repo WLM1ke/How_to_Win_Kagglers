{
 "cells": [
  {
   "cell_type": "markdown",
   "metadata": {},
   "source": [
    "# Project name: [Predict Future Sales](https://www.kaggle.com/c/competitive-data-science-predict-future-sales)"
   ]
  },
  {
   "cell_type": "markdown",
   "metadata": {},
   "source": [
    "# Version"
   ]
  },
  {
   "cell_type": "code",
   "execution_count": 150,
   "metadata": {},
   "outputs": [],
   "source": [
    "__ver__ = \"0.5\""
   ]
  },
  {
   "cell_type": "markdown",
   "metadata": {},
   "source": [
    "# Objective"
   ]
  },
  {
   "cell_type": "markdown",
   "metadata": {},
   "source": [
    "Try new features or Get better than 0.937 score on [Public Leaderboard](https://www.kaggle.com/c/competitive-data-science-predict-future-sales/leaderboard)"
   ]
  },
  {
   "cell_type": "markdown",
   "metadata": {},
   "source": [
    "# Setup"
   ]
  },
  {
   "cell_type": "code",
   "execution_count": 151,
   "metadata": {},
   "outputs": [],
   "source": [
    "import numpy as np\n",
    "import pandas as pd\n",
    "import catboost\n",
    "import sklearn\n",
    "from sklearn import preprocessing\n",
    "from sklearn.cluster import KMeans\n",
    "import matplotlib.pyplot as plt\n",
    "import statsmodels as sm\n",
    "from pmdarima import arima\n",
    "%matplotlib inline \n",
    "\n",
    "import itertools\n",
    "import warnings\n",
    "import sys\n",
    "\n",
    "warnings.filterwarnings('ignore')\n",
    "\n",
    "def downcaster(df):\n",
    "    for col in df:\n",
    "        if issubclass(df[col].dtype.type, np.floating):\n",
    "            df.loc[:, col] = pd.to_numeric(df.loc[:, col], downcast='float')\n",
    "        if issubclass(df[col].dtype.type, np.integer):\n",
    "            df.loc[:, col]   = pd.to_numeric(df.loc[:, col], downcast='integer')\n",
    "    return df"
   ]
  },
  {
   "cell_type": "markdown",
   "metadata": {},
   "source": [
    "# Data load"
   ]
  },
  {
   "cell_type": "code",
   "execution_count": 152,
   "metadata": {},
   "outputs": [],
   "source": [
    "# path\n",
    "cat_path = \"./raw_data/item_categories.csv\"\n",
    "items_path = \"./raw_data/items.csv\"\n",
    "shop_path = \"./raw_data/shops.csv\"\n",
    "sales_path = \"./raw_data/sales_train.csv.gz\"\n",
    "test_path = \"./raw_data/test.csv.gz\""
   ]
  },
  {
   "cell_type": "code",
   "execution_count": 153,
   "metadata": {},
   "outputs": [],
   "source": [
    "# load\n",
    "cat = pd.read_csv(cat_path)\n",
    "items = pd.read_csv(items_path)\n",
    "shops = pd.read_csv(shop_path)\n",
    "sales_params = dict(parse_dates=[0], infer_datetime_format = True, dayfirst=True)\n",
    "sales = pd.read_csv(sales_path, **sales_params)\n",
    "prices = pd.read_csv(sales_path, **sales_params)\n",
    "# load and save ID in index\n",
    "test = pd.read_csv(test_path).set_index('ID')"
   ]
  },
  {
   "cell_type": "markdown",
   "metadata": {},
   "source": [
    "# Data preprocessing"
   ]
  },
  {
   "cell_type": "markdown",
   "metadata": {},
   "source": [
    " ## Categories"
   ]
  },
  {
   "cell_type": "code",
   "execution_count": 154,
   "metadata": {},
   "outputs": [
    {
     "data": {
      "text/html": [
       "<div>\n",
       "<style scoped>\n",
       "    .dataframe tbody tr th:only-of-type {\n",
       "        vertical-align: middle;\n",
       "    }\n",
       "\n",
       "    .dataframe tbody tr th {\n",
       "        vertical-align: top;\n",
       "    }\n",
       "\n",
       "    .dataframe thead th {\n",
       "        text-align: right;\n",
       "    }\n",
       "</style>\n",
       "<table border=\"1\" class=\"dataframe\">\n",
       "  <thead>\n",
       "    <tr style=\"text-align: right;\">\n",
       "      <th></th>\n",
       "      <th>item_category_name</th>\n",
       "      <th>item_category_id</th>\n",
       "    </tr>\n",
       "  </thead>\n",
       "  <tbody>\n",
       "    <tr>\n",
       "      <th>0</th>\n",
       "      <td>PC - Гарнитуры/Наушники</td>\n",
       "      <td>0</td>\n",
       "    </tr>\n",
       "    <tr>\n",
       "      <th>1</th>\n",
       "      <td>Аксессуары - PS2</td>\n",
       "      <td>1</td>\n",
       "    </tr>\n",
       "    <tr>\n",
       "      <th>2</th>\n",
       "      <td>Аксессуары - PS3</td>\n",
       "      <td>2</td>\n",
       "    </tr>\n",
       "    <tr>\n",
       "      <th>3</th>\n",
       "      <td>Аксессуары - PS4</td>\n",
       "      <td>3</td>\n",
       "    </tr>\n",
       "    <tr>\n",
       "      <th>4</th>\n",
       "      <td>Аксессуары - PSP</td>\n",
       "      <td>4</td>\n",
       "    </tr>\n",
       "  </tbody>\n",
       "</table>\n",
       "</div>"
      ],
      "text/plain": [
       "        item_category_name  item_category_id\n",
       "0  PC - Гарнитуры/Наушники                 0\n",
       "1         Аксессуары - PS2                 1\n",
       "2         Аксессуары - PS3                 2\n",
       "3         Аксессуары - PS4                 3\n",
       "4         Аксессуары - PSP                 4"
      ]
     },
     "execution_count": 154,
     "metadata": {},
     "output_type": "execute_result"
    }
   ],
   "source": [
    "cat.head()"
   ]
  },
  {
   "cell_type": "code",
   "execution_count": 155,
   "metadata": {},
   "outputs": [],
   "source": [
    "# item_category_name can be split into category_group and sub_category\n",
    "cat_split = cat.item_category_name.str.split(\" - \")\n",
    "cat[\"category_group\"] = cat_split.apply(lambda x:  x[0].strip())\n",
    "cat[\"sub_category\"] = cat_split.apply(lambda x:  x[1].strip() if len(x) == 2 else x[0].strip())"
   ]
  },
  {
   "cell_type": "code",
   "execution_count": 156,
   "metadata": {},
   "outputs": [
    {
     "name": "stdout",
     "output_type": "stream",
     "text": [
      "<class 'pandas.core.frame.DataFrame'>\n",
      "RangeIndex: 84 entries, 0 to 83\n",
      "Data columns (total 3 columns):\n",
      "item_category_id    84 non-null int8\n",
      "category_group      84 non-null int8\n",
      "sub_category        84 non-null int8\n",
      "dtypes: int8(3)\n",
      "memory usage: 332.0 bytes\n"
     ]
    }
   ],
   "source": [
    "# Drop, encode and downcast\n",
    "cat = cat.drop(\"item_category_name\", axis=1)\n",
    "cat.category_group = preprocessing.LabelEncoder().fit_transform(cat.category_group)\n",
    "cat.sub_category = preprocessing.LabelEncoder().fit_transform(cat.sub_category)\n",
    "cat = downcaster(cat)\n",
    "cat.info()"
   ]
  },
  {
   "cell_type": "markdown",
   "metadata": {},
   "source": [
    "## Shops"
   ]
  },
  {
   "cell_type": "code",
   "execution_count": 157,
   "metadata": {},
   "outputs": [
    {
     "data": {
      "text/html": [
       "<div>\n",
       "<style scoped>\n",
       "    .dataframe tbody tr th:only-of-type {\n",
       "        vertical-align: middle;\n",
       "    }\n",
       "\n",
       "    .dataframe tbody tr th {\n",
       "        vertical-align: top;\n",
       "    }\n",
       "\n",
       "    .dataframe thead th {\n",
       "        text-align: right;\n",
       "    }\n",
       "</style>\n",
       "<table border=\"1\" class=\"dataframe\">\n",
       "  <thead>\n",
       "    <tr style=\"text-align: right;\">\n",
       "      <th></th>\n",
       "      <th>shop_name</th>\n",
       "      <th>shop_id</th>\n",
       "    </tr>\n",
       "  </thead>\n",
       "  <tbody>\n",
       "    <tr>\n",
       "      <th>0</th>\n",
       "      <td>!Якутск Орджоникидзе, 56 фран</td>\n",
       "      <td>0</td>\n",
       "    </tr>\n",
       "    <tr>\n",
       "      <th>57</th>\n",
       "      <td>Якутск Орджоникидзе, 56</td>\n",
       "      <td>57</td>\n",
       "    </tr>\n",
       "    <tr>\n",
       "      <th>1</th>\n",
       "      <td>!Якутск ТЦ \"Центральный\" фран</td>\n",
       "      <td>1</td>\n",
       "    </tr>\n",
       "    <tr>\n",
       "      <th>58</th>\n",
       "      <td>Якутск ТЦ \"Центральный\"</td>\n",
       "      <td>58</td>\n",
       "    </tr>\n",
       "    <tr>\n",
       "      <th>10</th>\n",
       "      <td>Жуковский ул. Чкалова 39м?</td>\n",
       "      <td>10</td>\n",
       "    </tr>\n",
       "    <tr>\n",
       "      <th>11</th>\n",
       "      <td>Жуковский ул. Чкалова 39м²</td>\n",
       "      <td>11</td>\n",
       "    </tr>\n",
       "  </tbody>\n",
       "</table>\n",
       "</div>"
      ],
      "text/plain": [
       "                        shop_name  shop_id\n",
       "0   !Якутск Орджоникидзе, 56 фран        0\n",
       "57        Якутск Орджоникидзе, 56       57\n",
       "1   !Якутск ТЦ \"Центральный\" фран        1\n",
       "58        Якутск ТЦ \"Центральный\"       58\n",
       "10     Жуковский ул. Чкалова 39м?       10\n",
       "11     Жуковский ул. Чкалова 39м²       11"
      ]
     },
     "execution_count": 157,
     "metadata": {},
     "output_type": "execute_result"
    }
   ],
   "source": [
    "# looks like dublicated shops \n",
    "shops.iloc[[0, 57, 1, 58, 10, 11]]"
   ]
  },
  {
   "cell_type": "markdown",
   "metadata": {},
   "source": [
    "#### Shops 0 and 57"
   ]
  },
  {
   "cell_type": "code",
   "execution_count": 158,
   "metadata": {},
   "outputs": [
    {
     "data": {
      "text/plain": [
       "array([0, 1])"
      ]
     },
     "execution_count": 158,
     "metadata": {},
     "output_type": "execute_result"
    }
   ],
   "source": [
    "# shop 0 ends at 1 date_block_num               \n",
    "sales[sales.shop_id == 0].date_block_num.unique()"
   ]
  },
  {
   "cell_type": "code",
   "execution_count": 159,
   "metadata": {},
   "outputs": [
    {
     "data": {
      "text/plain": [
       "array([ 2,  3,  4,  5,  6,  7,  8,  9, 10, 11, 12, 13, 14, 15, 16, 17, 18,\n",
       "       19, 20, 21, 22, 23, 24, 25, 26, 27, 28, 29, 30, 31, 32, 33])"
      ]
     },
     "execution_count": 159,
     "metadata": {},
     "output_type": "execute_result"
    }
   ],
   "source": [
    "# shop 57 starts at 2 date_block_num\n",
    "sales[sales.shop_id == 57].date_block_num.unique()"
   ]
  },
  {
   "cell_type": "code",
   "execution_count": 160,
   "metadata": {},
   "outputs": [
    {
     "data": {
      "text/plain": [
       "False"
      ]
     },
     "execution_count": 160,
     "metadata": {},
     "output_type": "execute_result"
    }
   ],
   "source": [
    "# no shop 0 in test set\n",
    "0 in test.shop_id.unique()"
   ]
  },
  {
   "cell_type": "code",
   "execution_count": 161,
   "metadata": {},
   "outputs": [],
   "source": [
    "# replace shop 0 with 57\n",
    "sales.loc[sales.shop_id == 0, \"shop_id\"] = 57"
   ]
  },
  {
   "cell_type": "markdown",
   "metadata": {},
   "source": [
    "#### Shops 1 and 58"
   ]
  },
  {
   "cell_type": "code",
   "execution_count": 162,
   "metadata": {},
   "outputs": [
    {
     "data": {
      "text/plain": [
       "array([0, 1])"
      ]
     },
     "execution_count": 162,
     "metadata": {},
     "output_type": "execute_result"
    }
   ],
   "source": [
    "# shop 1 ends at 1 date_block_num               \n",
    "sales[sales.shop_id == 1].date_block_num.unique()"
   ]
  },
  {
   "cell_type": "code",
   "execution_count": 163,
   "metadata": {},
   "outputs": [
    {
     "data": {
      "text/plain": [
       "array([ 2,  3,  4,  5,  6,  7,  8,  9, 10, 11, 12, 13, 14, 15, 16, 17, 18,\n",
       "       19, 20, 21, 22, 23, 24, 25, 26, 27, 28, 29, 30, 31, 32, 33])"
      ]
     },
     "execution_count": 163,
     "metadata": {},
     "output_type": "execute_result"
    }
   ],
   "source": [
    "# shop 58 starts at 2 date_block_num\n",
    "sales[sales.shop_id == 58].date_block_num.unique()"
   ]
  },
  {
   "cell_type": "code",
   "execution_count": 164,
   "metadata": {},
   "outputs": [
    {
     "data": {
      "text/plain": [
       "False"
      ]
     },
     "execution_count": 164,
     "metadata": {},
     "output_type": "execute_result"
    }
   ],
   "source": [
    "# no shop 1 in test set\n",
    "1 in test.shop_id.unique()"
   ]
  },
  {
   "cell_type": "code",
   "execution_count": 165,
   "metadata": {},
   "outputs": [],
   "source": [
    "# replase shop 0 with 58\n",
    "sales.loc[sales.shop_id == 1, \"shop_id\"] = 58"
   ]
  },
  {
   "cell_type": "markdown",
   "metadata": {},
   "source": [
    "#### Shops 10 and 11"
   ]
  },
  {
   "cell_type": "code",
   "execution_count": 166,
   "metadata": {},
   "outputs": [
    {
     "data": {
      "text/plain": [
       "array([25])"
      ]
     },
     "execution_count": 166,
     "metadata": {},
     "output_type": "execute_result"
    }
   ],
   "source": [
    "# shop 11 exists only at 25 date_block_num\n",
    "sales[sales.shop_id == 11].date_block_num.unique()"
   ]
  },
  {
   "cell_type": "code",
   "execution_count": 167,
   "metadata": {
    "scrolled": true
   },
   "outputs": [
    {
     "data": {
      "text/plain": [
       "array([ 0,  1,  2,  3,  4,  5,  6,  7,  8,  9, 10, 11, 12, 13, 14, 15, 16,\n",
       "       17, 18, 19, 20, 21, 22, 23, 24, 26, 27, 28, 29, 30, 31, 32, 33])"
      ]
     },
     "execution_count": 167,
     "metadata": {},
     "output_type": "execute_result"
    }
   ],
   "source": [
    "# no 25 date_block_num for shop 10\n",
    "sales[sales.shop_id == 10].date_block_num.unique()"
   ]
  },
  {
   "cell_type": "code",
   "execution_count": 168,
   "metadata": {},
   "outputs": [
    {
     "data": {
      "text/plain": [
       "False"
      ]
     },
     "execution_count": 168,
     "metadata": {},
     "output_type": "execute_result"
    }
   ],
   "source": [
    "# no shop 11 in test set\n",
    "11 in test.shop_id.unique()"
   ]
  },
  {
   "cell_type": "code",
   "execution_count": 169,
   "metadata": {},
   "outputs": [],
   "source": [
    "# replase shop 11 with 10\n",
    "sales.loc[sales.shop_id == 11, \"shop_id\"] = 10"
   ]
  },
  {
   "cell_type": "code",
   "execution_count": 170,
   "metadata": {},
   "outputs": [],
   "source": [
    "# drop bad shops\n",
    "shops.drop([0, 1, 11], inplace=True)"
   ]
  },
  {
   "cell_type": "markdown",
   "metadata": {},
   "source": [
    "#### Shops featues"
   ]
  },
  {
   "cell_type": "code",
   "execution_count": 171,
   "metadata": {},
   "outputs": [
    {
     "data": {
      "text/plain": [
       "array(['Адыгея', 'Балашиха', 'Волжский', 'Вологда', 'Воронеж', 'Выездная',\n",
       "       'Жуковский', 'Интернет-магазин', 'Казань', 'Калуга', 'Коломна',\n",
       "       'Красноярск', 'Курск', 'Москва', 'Мытищи', 'Н.Новгород',\n",
       "       'Новосибирск', 'Омск', 'РостовНаДону', 'СПб', 'Самара', 'Сергиев',\n",
       "       'Сургут', 'Томск', 'Тюмень', 'Уфа', 'Химки', 'Цифровой', 'Чехов',\n",
       "       'Якутск', 'Ярославль'], dtype=object)"
      ]
     },
     "execution_count": 171,
     "metadata": {},
     "output_type": "execute_result"
    }
   ],
   "source": [
    "# First part of shop_name is city\n",
    "shops.shop_name.str.split().apply(lambda x: x[0]).unique()"
   ]
  },
  {
   "cell_type": "code",
   "execution_count": 172,
   "metadata": {},
   "outputs": [],
   "source": [
    "shops['city'] = shops.shop_name.str.split().apply(lambda x: x[0].strip())"
   ]
  },
  {
   "cell_type": "code",
   "execution_count": 173,
   "metadata": {},
   "outputs": [
    {
     "name": "stdout",
     "output_type": "stream",
     "text": [
      "<class 'pandas.core.frame.DataFrame'>\n",
      "Int64Index: 57 entries, 2 to 59\n",
      "Data columns (total 2 columns):\n",
      "shop_id    57 non-null int8\n",
      "city       57 non-null int8\n",
      "dtypes: int8(2)\n",
      "memory usage: 570.0 bytes\n"
     ]
    }
   ],
   "source": [
    "# Drop, encode and downcast\n",
    "shops.drop(\"shop_name\", axis=1, inplace=True)\n",
    "shops.city = preprocessing.LabelEncoder().fit_transform(shops.city)\n",
    "shops = downcaster(shops)\n",
    "shops.info()"
   ]
  },
  {
   "cell_type": "markdown",
   "metadata": {},
   "source": [
    "## Items"
   ]
  },
  {
   "cell_type": "code",
   "execution_count": 174,
   "metadata": {},
   "outputs": [
    {
     "name": "stdout",
     "output_type": "stream",
     "text": [
      "<class 'pandas.core.frame.DataFrame'>\n",
      "RangeIndex: 22170 entries, 0 to 22169\n",
      "Data columns (total 2 columns):\n",
      "item_id             22170 non-null int16\n",
      "item_category_id    22170 non-null int8\n",
      "dtypes: int16(1), int8(1)\n",
      "memory usage: 65.0 KB\n"
     ]
    }
   ],
   "source": [
    "# Drop, encode and downcast\n",
    "items.drop(\"item_name\", axis=1, inplace=True)\n",
    "items = downcaster(items)\n",
    "items.info()"
   ]
  },
  {
   "cell_type": "markdown",
   "metadata": {},
   "source": [
    "## Make sales like Test"
   ]
  },
  {
   "cell_type": "markdown",
   "metadata": {},
   "source": [
    "We use cliped item_cnt - no need to remove outliers."
   ]
  },
  {
   "cell_type": "code",
   "execution_count": 175,
   "metadata": {},
   "outputs": [],
   "source": [
    "# Aggregate\n",
    "state_columns = [\"date_block_num\", \"shop_id\", \"item_id\"]\n",
    "sales.drop(\"item_price\", axis=1, inplace=True)\n",
    "sales = sales.groupby(state_columns, as_index=False).sum()"
   ]
  },
  {
   "cell_type": "code",
   "execution_count": 176,
   "metadata": {},
   "outputs": [],
   "source": [
    "# Rename target\n",
    "new_columns = sales.columns.tolist()\n",
    "new_columns[-1] = \"y\"\n",
    "sales.columns = new_columns"
   ]
  },
  {
   "cell_type": "code",
   "execution_count": 177,
   "metadata": {},
   "outputs": [
    {
     "data": {
      "text/plain": [
       "(5100, 42, True)"
      ]
     },
     "execution_count": 177,
     "metadata": {},
     "output_type": "execute_result"
    }
   ],
   "source": [
    "# Test set consists of 5100 items for 42 shops\n",
    "(\n",
    "    len(test.item_id.unique()), \n",
    "    len(test.shop_id.unique()), \n",
    "    len(test.item_id.unique()) * (len(test.shop_id.unique())) == len(test)\n",
    ")"
   ]
  },
  {
   "cell_type": "code",
   "execution_count": 178,
   "metadata": {},
   "outputs": [
    {
     "data": {
      "text/plain": [
       "(21807, 57)"
      ]
     },
     "execution_count": 178,
     "metadata": {},
     "output_type": "execute_result"
    }
   ],
   "source": [
    "# Sale set consists of 21807 items for 60 shops\n",
    "len(sales.item_id.unique()), len(sales.shop_id.unique())"
   ]
  },
  {
   "cell_type": "code",
   "execution_count": 179,
   "metadata": {},
   "outputs": [
    {
     "data": {
      "text/plain": [
       "363"
      ]
     },
     "execution_count": 179,
     "metadata": {},
     "output_type": "execute_result"
    }
   ],
   "source": [
    "# There are new items in test set\n",
    "len(set(test.item_id.unique()) - set(sales.item_id.unique()))"
   ]
  },
  {
   "cell_type": "code",
   "execution_count": 180,
   "metadata": {},
   "outputs": [],
   "source": [
    "# Try drop some shops and items from sales set and add new items to make both sets similar\n",
    "test_combinations = itertools.product(\n",
    "    sales.date_block_num.unique(),\n",
    "    test.shop_id.unique(),\n",
    "    test.item_id.unique()\n",
    ")\n",
    "data = pd.DataFrame(\n",
    "    list(test_combinations),\n",
    "    columns=state_columns\n",
    ")\n",
    "data = data.merge(sales, on=state_columns, how=\"left\")\n",
    "data.y = data.y.fillna(0)"
   ]
  },
  {
   "cell_type": "code",
   "execution_count": 181,
   "metadata": {},
   "outputs": [
    {
     "name": "stdout",
     "output_type": "stream",
     "text": [
      "<class 'pandas.core.frame.DataFrame'>\n",
      "Int64Index: 7282800 entries, 0 to 7282799\n",
      "Data columns (total 4 columns):\n",
      "date_block_num    int8\n",
      "shop_id           int8\n",
      "item_id           int16\n",
      "y                 float32\n",
      "dtypes: float32(1), int16(1), int8(2)\n",
      "memory usage: 111.1 MB\n"
     ]
    }
   ],
   "source": [
    "# downcast and clip to [0, 20]\n",
    "data.loc[:, \"y\"] = data.y.clip(0, 20)\n",
    "data = downcaster(data)\n",
    "data.info()"
   ]
  },
  {
   "cell_type": "markdown",
   "metadata": {},
   "source": [
    "## Stack Sales and Test"
   ]
  },
  {
   "cell_type": "code",
   "execution_count": 182,
   "metadata": {},
   "outputs": [],
   "source": [
    "# add date_block_num to test\n",
    "test_date_block = data.date_block_num.max() + 1\n",
    "test[\"date_block_num\"] = test_date_block\n",
    "test = downcaster(test)"
   ]
  },
  {
   "cell_type": "code",
   "execution_count": 183,
   "metadata": {},
   "outputs": [],
   "source": [
    "# stack train and test data\n",
    "data = pd.concat([data, test], axis=0, sort=False)"
   ]
  },
  {
   "cell_type": "markdown",
   "metadata": {},
   "source": [
    "## Merge all data"
   ]
  },
  {
   "cell_type": "code",
   "execution_count": 184,
   "metadata": {},
   "outputs": [],
   "source": [
    "data = data.merge(shops, how=\"left\", on=\"shop_id\")\n",
    "data = data.merge(items, how=\"left\", on=\"item_id\")\n",
    "data = data.merge(cat, how=\"left\", on=\"item_category_id\")"
   ]
  },
  {
   "cell_type": "markdown",
   "metadata": {},
   "source": [
    "# Feature engineering"
   ]
  },
  {
   "cell_type": "markdown",
   "metadata": {},
   "source": [
    "## Seasonality"
   ]
  },
  {
   "cell_type": "code",
   "execution_count": 185,
   "metadata": {},
   "outputs": [],
   "source": [
    "montly_agg = data.groupby(\"date_block_num\")[\"y\"].sum().iloc[:-1]"
   ]
  },
  {
   "cell_type": "code",
   "execution_count": 186,
   "metadata": {
    "scrolled": true
   },
   "outputs": [
    {
     "data": {
      "text/plain": [
       "<matplotlib.axes._subplots.AxesSubplot at 0x12cc1f208>"
      ]
     },
     "execution_count": 186,
     "metadata": {},
     "output_type": "execute_result"
    },
    {
     "data": {
      "image/png": "[encoded data removed]",
      "text/plain": [
       "<Figure size 432x288 with 1 Axes>"
      ]
     },
     "metadata": {
      "needs_background": "light"
     },
     "output_type": "display_data"
    }
   ],
   "source": [
    "# Seasonality\n",
    "montly_agg.plot()"
   ]
  },
  {
   "cell_type": "code",
   "execution_count": 187,
   "metadata": {},
   "outputs": [],
   "source": [
    "# Add month feature\n",
    "data[\"month\"] = data.date_block_num % 12"
   ]
  },
  {
   "cell_type": "code",
   "execution_count": 188,
   "metadata": {},
   "outputs": [
    {
     "data": {
      "image/png": "[encoded data removed]",
      "text/plain": [
       "<Figure size 432x288 with 1 Axes>"
      ]
     },
     "metadata": {
      "needs_background": "light"
     },
     "output_type": "display_data"
    }
   ],
   "source": [
    "_ = sm.graphics.tsaplots.plot_acf(montly_agg, lags=12)"
   ]
  },
  {
   "cell_type": "code",
   "execution_count": 189,
   "metadata": {},
   "outputs": [],
   "source": [
    "def make_lags(df, lag_col_name, lags):\n",
    "    for i in sorted(lags):\n",
    "        lagger = df[state_columns + [lag_col_name]]\n",
    "        lagger.loc[:, \"date_block_num\"] += i\n",
    "        lagger.columns = lagger.columns[:-1].tolist() + [f\"{lag_col_name}_{i}\"]\n",
    "        df = df.merge(lagger, on=state_columns, how='left')\n",
    "    return df"
   ]
  },
  {
   "cell_type": "code",
   "execution_count": 190,
   "metadata": {},
   "outputs": [],
   "source": [
    "# Add some first lags and year ago\n",
    "data = make_lags(data, \"y\", [1, 2, 3, 4, 13])"
   ]
  },
  {
   "cell_type": "code",
   "execution_count": 191,
   "metadata": {
    "scrolled": true
   },
   "outputs": [
    {
     "data": {
      "text/plain": [
       "(-2.132157497160812,\n",
       " 0.23178200425279727,\n",
       " 0,\n",
       " 33,\n",
       " {'1%': -3.6461350877925254,\n",
       "  '5%': -2.954126991123355,\n",
       "  '10%': -2.6159676124885216},\n",
       " 491.5327212008761)"
      ]
     },
     "execution_count": 191,
     "metadata": {},
     "output_type": "execute_result"
    }
   ],
   "source": [
    "# Weak sign of unit root\n",
    "sm.tsa.stattools.adfuller(montly_agg)"
   ]
  },
  {
   "cell_type": "code",
   "execution_count": 192,
   "metadata": {},
   "outputs": [],
   "source": [
    "# Add first diff an year diff\n",
    "data[\"diff_y1_y2\"] = data[\"y_1\"] - data[\"y_2\"]\n",
    "data[\"diff_y1_y13\"] = data[\"y_1\"] - data[\"y_13\"]\n",
    "data.drop(\"y_13\", axis=1, inplace=True)"
   ]
  },
  {
   "cell_type": "markdown",
   "metadata": {},
   "source": [
    "## Leaks"
   ]
  },
  {
   "cell_type": "markdown",
   "metadata": {},
   "source": [
    "### We are asked about sellable items"
   ]
  },
  {
   "cell_type": "code",
   "execution_count": 193,
   "metadata": {},
   "outputs": [],
   "source": [
    "# was this item sold at given date?\n",
    "tmp = data.groupby([\"item_id\", \"date_block_num\"], as_index=False).agg({\"y\": \"max\"})\n",
    "tmp[\"item_sold\"] = tmp.y > 0\n",
    "tmp.drop(\"y\", axis=1, inplace=True)"
   ]
  },
  {
   "cell_type": "code",
   "execution_count": 194,
   "metadata": {},
   "outputs": [],
   "source": [
    "# let's guess we make prediction for sellable items\n",
    "tmp.loc[tmp.date_block_num == tmp.date_block_num.max(), \"item_sold\"] = True"
   ]
  },
  {
   "cell_type": "code",
   "execution_count": 195,
   "metadata": {},
   "outputs": [],
   "source": [
    "# add feature\n",
    "data = data.merge(tmp, how='left', on=[\"item_id\", \"date_block_num\"])"
   ]
  },
  {
   "cell_type": "markdown",
   "metadata": {},
   "source": [
    "### Let's mark new items for every date_block_num"
   ]
  },
  {
   "cell_type": "code",
   "execution_count": 196,
   "metadata": {},
   "outputs": [],
   "source": [
    "# get new items for every date_block_num\n",
    "new_matrix = []\n",
    "old_items = set()\n",
    "for num in sorted(sales.date_block_num.unique()):\n",
    "    date_items = set(sales[sales.date_block_num == num].item_id.unique())\n",
    "    if not num:\n",
    "        old_items = date_items\n",
    "        continue\n",
    "    new_items = date_items - old_items\n",
    "    new_matrix.extend(\n",
    "        itertools.product(\n",
    "            [num],\n",
    "            new_items\n",
    "        )\n",
    "    )\n",
    "    old_items |= date_items"
   ]
  },
  {
   "cell_type": "code",
   "execution_count": 197,
   "metadata": {},
   "outputs": [],
   "source": [
    "# guess new items for test\n",
    "new_items = set(test.item_id.unique()) - old_items\n",
    "new_matrix.extend(\n",
    "    itertools.product(\n",
    "        [test_date_block],\n",
    "        new_items\n",
    "    )\n",
    ")"
   ]
  },
  {
   "cell_type": "code",
   "execution_count": 198,
   "metadata": {},
   "outputs": [],
   "source": [
    "# make feature\n",
    "tmp = pd.DataFrame(new_matrix, columns=[\"date_block_num\", \"item_id\"])\n",
    "tmp[\"new_item\"] = True"
   ]
  },
  {
   "cell_type": "code",
   "execution_count": 199,
   "metadata": {},
   "outputs": [],
   "source": [
    "data = data.merge(tmp, how='left', on=[\"item_id\", \"date_block_num\"])\n",
    "data[\"new_item\"] = data[\"new_item\"].fillna(False)"
   ]
  },
  {
   "cell_type": "markdown",
   "metadata": {},
   "source": [
    "## Items clusters"
   ]
  },
  {
   "cell_type": "code",
   "execution_count": 200,
   "metadata": {},
   "outputs": [],
   "source": [
    "# Use first 12 month for items clusters - this data will be droped, so no risk leaks\n",
    "tmp_gr = data[data.date_block_num < 12].groupby([\"item_id\", \"date_block_num\"]).y.mean().unstack()"
   ]
  },
  {
   "cell_type": "code",
   "execution_count": 201,
   "metadata": {},
   "outputs": [],
   "source": [
    "n_cl=21\n",
    "\n",
    "clst = KMeans(n_clusters=n_cl)\n",
    "tmp = pd.DataFrame(clst.fit_predict(tmp_gr), index=tmp_gr.index, columns=[f\"item_cluster_{n_cl}\"], dtype=\"int8\")\n",
    "data = data.merge(tmp, how=\"left\", left_on=\"item_id\", right_index=True)"
   ]
  },
  {
   "cell_type": "markdown",
   "metadata": {},
   "source": [
    "## Add some proxi sales mean encoded features"
   ]
  },
  {
   "cell_type": "markdown",
   "metadata": {},
   "source": [
    "### Mean for every item and date"
   ]
  },
  {
   "cell_type": "code",
   "execution_count": 202,
   "metadata": {},
   "outputs": [],
   "source": [
    "tmp = data.groupby([\"item_id\", \"date_block_num\"], as_index=False).y.mean()\n",
    "tmp.columns = tmp.columns.tolist()[:-1] + [\"item_date_y\"]\n",
    "data = data.merge(tmp, on=[\"item_id\", \"date_block_num\"], how='left')"
   ]
  },
  {
   "cell_type": "code",
   "execution_count": 203,
   "metadata": {},
   "outputs": [],
   "source": [
    "# Add some laggs and drop column\n",
    "data = make_lags(data, \"item_date_y\", [1, 2, 3])\n",
    "data.drop(\"item_date_y\", axis=1, inplace=True)"
   ]
  },
  {
   "cell_type": "markdown",
   "metadata": {},
   "source": [
    "### Mean for shop and date"
   ]
  },
  {
   "cell_type": "code",
   "execution_count": 204,
   "metadata": {},
   "outputs": [],
   "source": [
    "tmp = data.groupby([\"shop_id\", \"date_block_num\"], as_index=False).y.mean()\n",
    "tmp.columns = tmp.columns.tolist()[:-1] + [\"shop_date_y\"]\n",
    "data = data.merge(tmp, on=[\"shop_id\", \"date_block_num\"], how='left')"
   ]
  },
  {
   "cell_type": "code",
   "execution_count": 205,
   "metadata": {},
   "outputs": [],
   "source": [
    "# Add some laggs and drop column\n",
    "data = make_lags(data, \"shop_date_y\", [1, 2, 12])\n",
    "data.drop(\"shop_date_y\", axis=1, inplace=True)"
   ]
  },
  {
   "cell_type": "markdown",
   "metadata": {},
   "source": [
    "### Mean for shop, category and date"
   ]
  },
  {
   "cell_type": "code",
   "execution_count": 206,
   "metadata": {},
   "outputs": [],
   "source": [
    "tmp = data.groupby([\"shop_id\", \"item_category_id\", \"date_block_num\"], as_index=False).y.mean()\n",
    "tmp.columns = tmp.columns.tolist()[:-1] + [\"shop_cat_date_y\"]\n",
    "data = data.merge(tmp, on=[\"shop_id\", \"item_category_id\", \"date_block_num\"], how='left')"
   ]
  },
  {
   "cell_type": "code",
   "execution_count": 207,
   "metadata": {},
   "outputs": [],
   "source": [
    "# Add some laggs and drop column\n",
    "data = make_lags(data, \"shop_cat_date_y\", [1, 2, 3])\n",
    "data.drop(\"shop_cat_date_y\", axis=1, inplace=True)"
   ]
  },
  {
   "cell_type": "markdown",
   "metadata": {},
   "source": [
    "### Mean for category and date"
   ]
  },
  {
   "cell_type": "code",
   "execution_count": 208,
   "metadata": {},
   "outputs": [],
   "source": [
    "tmp = data.groupby([\"item_category_id\", \"date_block_num\"], as_index=False).y.mean()\n",
    "tmp.columns = tmp.columns.tolist()[:-1] + [\"cat_date_y\"]\n",
    "data = data.merge(tmp, on=[\"item_category_id\", \"date_block_num\"], how='left')"
   ]
  },
  {
   "cell_type": "code",
   "execution_count": 209,
   "metadata": {},
   "outputs": [],
   "source": [
    "# Add some laggs and drop column\n",
    "data = make_lags(data, \"cat_date_y\", [1, 2, 3])\n",
    "data.drop(\"cat_date_y\", axis=1, inplace=True)"
   ]
  },
  {
   "cell_type": "markdown",
   "metadata": {},
   "source": [
    "### Cummean shop and item"
   ]
  },
  {
   "cell_type": "code",
   "execution_count": 210,
   "metadata": {},
   "outputs": [],
   "source": [
    "tmp = data.groupby([\"shop_id\", \"item_id\"])[[\"y\"]].cumsum()\n",
    "tmp.columns = [\"cummean_shop_item_y\"]\n",
    "tmp[\"date_block_num\"] = data[\"date_block_num\"] + 1\n",
    "tmp[\"cummean_shop_item_y\"] = tmp[\"cummean_shop_item_y\"] / tmp[\"date_block_num\"]\n",
    "tmp[\"shop_id\"] = data[\"shop_id\"]\n",
    "tmp[\"item_id\"] = data[\"item_id\"]\n",
    "data = data.merge(tmp, on=[\"shop_id\", \"item_id\", \"date_block_num\"], how='left')"
   ]
  },
  {
   "cell_type": "markdown",
   "metadata": {},
   "source": [
    "### Cummin shop and item"
   ]
  },
  {
   "cell_type": "code",
   "execution_count": 211,
   "metadata": {},
   "outputs": [],
   "source": [
    "# items not sold before in shop\n",
    "tmp = data.groupby([\"shop_id\", \"item_id\"])[[\"y\"]].cummax()\n",
    "tmp.columns = [\"not_sold_before\"]\n",
    "tmp[\"date_block_num\"] = data[\"date_block_num\"] + 1\n",
    "tmp[\"shop_id\"] = data[\"shop_id\"]\n",
    "tmp[\"item_id\"] = data[\"item_id\"]\n",
    "data = data.merge(tmp, on=[\"shop_id\", \"item_id\", \"date_block_num\"], how='left')\n",
    "data[\"not_sold_before\"] = data[\"not_sold_before\"] == 0"
   ]
  },
  {
   "cell_type": "markdown",
   "metadata": {},
   "source": [
    "## Prices"
   ]
  },
  {
   "cell_type": "code",
   "execution_count": 212,
   "metadata": {},
   "outputs": [
    {
     "data": {
      "text/html": [
       "<div>\n",
       "<style scoped>\n",
       "    .dataframe tbody tr th:only-of-type {\n",
       "        vertical-align: middle;\n",
       "    }\n",
       "\n",
       "    .dataframe tbody tr th {\n",
       "        vertical-align: top;\n",
       "    }\n",
       "\n",
       "    .dataframe thead th {\n",
       "        text-align: right;\n",
       "    }\n",
       "</style>\n",
       "<table border=\"1\" class=\"dataframe\">\n",
       "  <thead>\n",
       "    <tr style=\"text-align: right;\">\n",
       "      <th></th>\n",
       "      <th>date</th>\n",
       "      <th>date_block_num</th>\n",
       "      <th>shop_id</th>\n",
       "      <th>item_id</th>\n",
       "      <th>item_price</th>\n",
       "      <th>item_cnt_day</th>\n",
       "    </tr>\n",
       "  </thead>\n",
       "  <tbody>\n",
       "    <tr>\n",
       "      <th>484683</th>\n",
       "      <td>2013-05-15</td>\n",
       "      <td>4</td>\n",
       "      <td>32</td>\n",
       "      <td>2973</td>\n",
       "      <td>-1.0</td>\n",
       "      <td>1.0</td>\n",
       "    </tr>\n",
       "  </tbody>\n",
       "</table>\n",
       "</div>"
      ],
      "text/plain": [
       "             date  date_block_num  shop_id  item_id  item_price  item_cnt_day\n",
       "484683 2013-05-15               4       32     2973        -1.0           1.0"
      ]
     },
     "execution_count": 212,
     "metadata": {},
     "output_type": "execute_result"
    }
   ],
   "source": [
    "# I am going to use log prices - so should remove negative price\n",
    "prices[prices.item_price <=0]"
   ]
  },
  {
   "cell_type": "code",
   "execution_count": 213,
   "metadata": {},
   "outputs": [],
   "source": [
    "# drop negative price and unused columns\n",
    "prices.drop(484683, inplace=True)\n",
    "prices.drop([\"date\", \"item_cnt_day\"], axis=1, inplace=True)"
   ]
  },
  {
   "cell_type": "code",
   "execution_count": 214,
   "metadata": {},
   "outputs": [],
   "source": [
    "# take log\n",
    "prices.item_price = prices.item_price.apply(np.log)"
   ]
  },
  {
   "cell_type": "code",
   "execution_count": 215,
   "metadata": {},
   "outputs": [],
   "source": [
    "# let's aggregate with more robust median and downcast\n",
    "prices = downcaster(prices.groupby(state_columns, as_index=False).median())"
   ]
  },
  {
   "cell_type": "code",
   "execution_count": 216,
   "metadata": {},
   "outputs": [],
   "source": [
    "# add to data\n",
    "data = data.merge(prices, on=state_columns, how='left')"
   ]
  },
  {
   "cell_type": "markdown",
   "metadata": {},
   "source": [
    "### Price discount in shop"
   ]
  },
  {
   "cell_type": "code",
   "execution_count": 217,
   "metadata": {},
   "outputs": [],
   "source": [
    "# add median of all shops\n",
    "tmp = data.groupby([\"item_id\", \"date_block_num\"]).item_price.median()\n",
    "tmp.name = \"avr_price\"\n",
    "data = data.merge(tmp.to_frame(), left_on=[\"item_id\", \"date_block_num\"], right_index=True, how='left')"
   ]
  },
  {
   "cell_type": "code",
   "execution_count": 218,
   "metadata": {},
   "outputs": [],
   "source": [
    "# add discont\n",
    "data[\"price_discount\"] = data.item_price - data.avr_price\n",
    "data[\"price_discount\"] = data[\"price_discount\"].fillna(0)"
   ]
  },
  {
   "cell_type": "code",
   "execution_count": 219,
   "metadata": {},
   "outputs": [],
   "source": [
    "# lag it\n",
    "data = make_lags(data, \"price_discount\", [1])\n",
    "data.drop(\"price_discount\", axis=1, inplace=True)"
   ]
  },
  {
   "cell_type": "markdown",
   "metadata": {},
   "source": [
    "### Price growth"
   ]
  },
  {
   "cell_type": "code",
   "execution_count": 220,
   "metadata": {},
   "outputs": [],
   "source": [
    "price_lags = [1, 6]"
   ]
  },
  {
   "cell_type": "code",
   "execution_count": 221,
   "metadata": {},
   "outputs": [],
   "source": [
    "data = make_lags(data, \"avr_price\", price_lags)\n",
    "data.drop([\"item_price\", \"avr_price\"], axis=1, inplace=True)"
   ]
  },
  {
   "cell_type": "code",
   "execution_count": 222,
   "metadata": {},
   "outputs": [],
   "source": [
    "for i in price_lags:\n",
    "    if i == 1:\n",
    "        continue\n",
    "    data[f\"price_growth_1_{i}\"] = data[\"avr_price_1\"] - data[f\"avr_price_{i}\"]\n",
    "    data[f\"price_growth_1_{i}\"] = data[f\"price_growth_1_{i}\"].fillna(0)\n",
    "    data.drop(f\"avr_price_{i}\", axis=1, inplace=True)\n",
    "data.drop(\"avr_price_1\", axis=1, inplace=True)"
   ]
  },
  {
   "cell_type": "markdown",
   "metadata": {},
   "source": [
    "## Save processed data"
   ]
  },
  {
   "cell_type": "code",
   "execution_count": 223,
   "metadata": {},
   "outputs": [],
   "source": [
    "processed_path = f\"./processed_data/data_{__ver__}.pickle\""
   ]
  },
  {
   "cell_type": "code",
   "execution_count": 224,
   "metadata": {},
   "outputs": [],
   "source": [
    "data.to_pickle(processed_path)"
   ]
  }
 ],
 "metadata": {
  "kernelspec": {
   "display_name": "Python 3",
   "language": "python",
   "name": "python3"
  },
  "language_info": {
   "codemirror_mode": {
    "name": "ipython",
    "version": 3
   },
   "file_extension": ".py",
   "mimetype": "text/x-python",
   "name": "python",
   "nbconvert_exporter": "python",
   "pygments_lexer": "ipython3",
   "version": "3.7.2"
  }
 },
 "nbformat": 4,
 "nbformat_minor": 2
}
