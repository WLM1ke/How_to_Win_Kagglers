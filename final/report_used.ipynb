{
 "cells": [
  {
   "cell_type": "markdown",
   "metadata": {},
   "source": [
    "# Project name: [Predict Future Sales](https://www.kaggle.com/c/competitive-data-science-predict-future-sales)"
   ]
  },
  {
   "cell_type": "markdown",
   "metadata": {},
   "source": [
    "# Objective"
   ]
  },
  {
   "cell_type": "markdown",
   "metadata": {},
   "source": [
    "Get better than 0.994 score on [Public Leaderboard](https://www.kaggle.com/c/competitive-data-science-predict-future-sales/leaderboard)"
   ]
  },
  {
   "cell_type": "markdown",
   "metadata": {},
   "source": [
    "# Version"
   ]
  },
  {
   "cell_type": "code",
   "execution_count": 1,
   "metadata": {},
   "outputs": [],
   "source": [
    "__ver__ = \"0.3\""
   ]
  },
  {
   "cell_type": "markdown",
   "metadata": {},
   "source": [
    "# Setup"
   ]
  },
  {
   "cell_type": "code",
   "execution_count": 2,
   "metadata": {},
   "outputs": [],
   "source": [
    "import numpy as np\n",
    "import pandas as pd\n",
    "import catboost\n",
    "import sklearn\n",
    "from sklearn import preprocessing\n",
    "import matplotlib.pyplot as plt\n",
    "import statsmodels as sm\n",
    "from pmdarima import arima\n",
    "%matplotlib inline \n",
    "\n",
    "import itertools\n",
    "import warnings\n",
    "import sys\n",
    "\n",
    "def downcaster(df):\n",
    "    for col in df:\n",
    "        if issubclass(df[col].dtype.type, np.floating):\n",
    "            df.loc[:, col] = pd.to_numeric(df.loc[:, col], downcast='float')\n",
    "        if issubclass(df[col].dtype.type, np.integer):\n",
    "            df.loc[:, col]   = pd.to_numeric(df.loc[:, col], downcast='integer')\n",
    "    return df"
   ]
  },
  {
   "cell_type": "markdown",
   "metadata": {},
   "source": [
    "# Data load"
   ]
  },
  {
   "cell_type": "code",
   "execution_count": 3,
   "metadata": {},
   "outputs": [],
   "source": [
    "# path\n",
    "cat_path = \"./raw_data/item_categories.csv\"\n",
    "items_path = \"./raw_data/items.csv\"\n",
    "shop_path = \"./raw_data/shops.csv\"\n",
    "sales_path = \"./raw_data/sales_train.csv.gz\"\n",
    "test_path = \"./raw_data/test.csv.gz\""
   ]
  },
  {
   "cell_type": "code",
   "execution_count": 4,
   "metadata": {},
   "outputs": [],
   "source": [
    "# load\n",
    "cat = pd.read_csv(cat_path)\n",
    "items = pd.read_csv(items_path)\n",
    "shops = pd.read_csv(shop_path)\n",
    "sales_params = dict(parse_dates=[0], infer_datetime_format = True, dayfirst=True)\n",
    "sales = pd.read_csv(sales_path, **sales_params)\n",
    "# load and save ID in index\n",
    "test = pd.read_csv(test_path).set_index('ID')"
   ]
  },
  {
   "cell_type": "markdown",
   "metadata": {},
   "source": [
    "# Data preprocessing"
   ]
  },
  {
   "cell_type": "markdown",
   "metadata": {},
   "source": [
    " ## Categories"
   ]
  },
  {
   "cell_type": "code",
   "execution_count": 5,
   "metadata": {},
   "outputs": [
    {
     "data": {
      "text/html": [
       "<div>\n",
       "<style scoped>\n",
       "    .dataframe tbody tr th:only-of-type {\n",
       "        vertical-align: middle;\n",
       "    }\n",
       "\n",
       "    .dataframe tbody tr th {\n",
       "        vertical-align: top;\n",
       "    }\n",
       "\n",
       "    .dataframe thead th {\n",
       "        text-align: right;\n",
       "    }\n",
       "</style>\n",
       "<table border=\"1\" class=\"dataframe\">\n",
       "  <thead>\n",
       "    <tr style=\"text-align: right;\">\n",
       "      <th></th>\n",
       "      <th>item_category_name</th>\n",
       "      <th>item_category_id</th>\n",
       "    </tr>\n",
       "  </thead>\n",
       "  <tbody>\n",
       "    <tr>\n",
       "      <th>0</th>\n",
       "      <td>PC - Гарнитуры/Наушники</td>\n",
       "      <td>0</td>\n",
       "    </tr>\n",
       "    <tr>\n",
       "      <th>1</th>\n",
       "      <td>Аксессуары - PS2</td>\n",
       "      <td>1</td>\n",
       "    </tr>\n",
       "    <tr>\n",
       "      <th>2</th>\n",
       "      <td>Аксессуары - PS3</td>\n",
       "      <td>2</td>\n",
       "    </tr>\n",
       "    <tr>\n",
       "      <th>3</th>\n",
       "      <td>Аксессуары - PS4</td>\n",
       "      <td>3</td>\n",
       "    </tr>\n",
       "    <tr>\n",
       "      <th>4</th>\n",
       "      <td>Аксессуары - PSP</td>\n",
       "      <td>4</td>\n",
       "    </tr>\n",
       "  </tbody>\n",
       "</table>\n",
       "</div>"
      ],
      "text/plain": [
       "        item_category_name  item_category_id\n",
       "0  PC - Гарнитуры/Наушники                 0\n",
       "1         Аксессуары - PS2                 1\n",
       "2         Аксессуары - PS3                 2\n",
       "3         Аксессуары - PS4                 3\n",
       "4         Аксессуары - PSP                 4"
      ]
     },
     "execution_count": 5,
     "metadata": {},
     "output_type": "execute_result"
    }
   ],
   "source": [
    "cat.head()"
   ]
  },
  {
   "cell_type": "code",
   "execution_count": 6,
   "metadata": {},
   "outputs": [],
   "source": [
    "# item_category_name can be split into category_group and sub_category\n",
    "cat_split = cat.item_category_name.str.split(\" - \")\n",
    "cat[\"category_group\"] = cat_split.apply(lambda x:  x[0])\n",
    "cat[\"sub_category\"] = cat_split.apply(lambda x:  x[1] if len(x) == 2 else x[0])"
   ]
  },
  {
   "cell_type": "code",
   "execution_count": 7,
   "metadata": {},
   "outputs": [
    {
     "name": "stdout",
     "output_type": "stream",
     "text": [
      "<class 'pandas.core.frame.DataFrame'>\n",
      "RangeIndex: 84 entries, 0 to 83\n",
      "Data columns (total 3 columns):\n",
      "item_category_id    84 non-null int8\n",
      "category_group      84 non-null int8\n",
      "sub_category        84 non-null int8\n",
      "dtypes: int8(3)\n",
      "memory usage: 332.0 bytes\n"
     ]
    }
   ],
   "source": [
    "# Drop, encode and downcast\n",
    "cat = cat.drop(\"item_category_name\", axis=1)\n",
    "cat.category_group = preprocessing.LabelEncoder().fit_transform(cat.category_group)\n",
    "cat.sub_category = preprocessing.LabelEncoder().fit_transform(cat.sub_category)\n",
    "cat = downcaster(cat)\n",
    "cat.info()"
   ]
  },
  {
   "cell_type": "markdown",
   "metadata": {},
   "source": [
    "## Shops"
   ]
  },
  {
   "cell_type": "code",
   "execution_count": 8,
   "metadata": {},
   "outputs": [
    {
     "data": {
      "text/html": [
       "<div>\n",
       "<style scoped>\n",
       "    .dataframe tbody tr th:only-of-type {\n",
       "        vertical-align: middle;\n",
       "    }\n",
       "\n",
       "    .dataframe tbody tr th {\n",
       "        vertical-align: top;\n",
       "    }\n",
       "\n",
       "    .dataframe thead th {\n",
       "        text-align: right;\n",
       "    }\n",
       "</style>\n",
       "<table border=\"1\" class=\"dataframe\">\n",
       "  <thead>\n",
       "    <tr style=\"text-align: right;\">\n",
       "      <th></th>\n",
       "      <th>shop_name</th>\n",
       "      <th>shop_id</th>\n",
       "    </tr>\n",
       "  </thead>\n",
       "  <tbody>\n",
       "    <tr>\n",
       "      <th>0</th>\n",
       "      <td>!Якутск Орджоникидзе, 56 фран</td>\n",
       "      <td>0</td>\n",
       "    </tr>\n",
       "    <tr>\n",
       "      <th>57</th>\n",
       "      <td>Якутск Орджоникидзе, 56</td>\n",
       "      <td>57</td>\n",
       "    </tr>\n",
       "    <tr>\n",
       "      <th>1</th>\n",
       "      <td>!Якутск ТЦ \"Центральный\" фран</td>\n",
       "      <td>1</td>\n",
       "    </tr>\n",
       "    <tr>\n",
       "      <th>58</th>\n",
       "      <td>Якутск ТЦ \"Центральный\"</td>\n",
       "      <td>58</td>\n",
       "    </tr>\n",
       "    <tr>\n",
       "      <th>10</th>\n",
       "      <td>Жуковский ул. Чкалова 39м?</td>\n",
       "      <td>10</td>\n",
       "    </tr>\n",
       "    <tr>\n",
       "      <th>11</th>\n",
       "      <td>Жуковский ул. Чкалова 39м²</td>\n",
       "      <td>11</td>\n",
       "    </tr>\n",
       "  </tbody>\n",
       "</table>\n",
       "</div>"
      ],
      "text/plain": [
       "                        shop_name  shop_id\n",
       "0   !Якутск Орджоникидзе, 56 фран        0\n",
       "57        Якутск Орджоникидзе, 56       57\n",
       "1   !Якутск ТЦ \"Центральный\" фран        1\n",
       "58        Якутск ТЦ \"Центральный\"       58\n",
       "10     Жуковский ул. Чкалова 39м?       10\n",
       "11     Жуковский ул. Чкалова 39м²       11"
      ]
     },
     "execution_count": 8,
     "metadata": {},
     "output_type": "execute_result"
    }
   ],
   "source": [
    "# looks like dublicated shops \n",
    "shops.iloc[[0, 57, 1, 58, 10, 11]]"
   ]
  },
  {
   "cell_type": "markdown",
   "metadata": {},
   "source": [
    "#### Shops 0 and 57"
   ]
  },
  {
   "cell_type": "code",
   "execution_count": 9,
   "metadata": {},
   "outputs": [
    {
     "data": {
      "text/plain": [
       "array([0, 1])"
      ]
     },
     "execution_count": 9,
     "metadata": {},
     "output_type": "execute_result"
    }
   ],
   "source": [
    "# shop 0 ends at 1 date_block_num               \n",
    "sales[sales.shop_id == 0].date_block_num.unique()"
   ]
  },
  {
   "cell_type": "code",
   "execution_count": 10,
   "metadata": {},
   "outputs": [
    {
     "data": {
      "text/plain": [
       "array([ 2,  3,  4,  5,  6,  7,  8,  9, 10, 11, 12, 13, 14, 15, 16, 17, 18,\n",
       "       19, 20, 21, 22, 23, 24, 25, 26, 27, 28, 29, 30, 31, 32, 33])"
      ]
     },
     "execution_count": 10,
     "metadata": {},
     "output_type": "execute_result"
    }
   ],
   "source": [
    "# shop 57 starts at 2 date_block_num\n",
    "sales[sales.shop_id == 57].date_block_num.unique()"
   ]
  },
  {
   "cell_type": "code",
   "execution_count": 11,
   "metadata": {},
   "outputs": [
    {
     "data": {
      "text/plain": [
       "False"
      ]
     },
     "execution_count": 11,
     "metadata": {},
     "output_type": "execute_result"
    }
   ],
   "source": [
    "# no shop 0 in test set\n",
    "0 in test.shop_id.unique()"
   ]
  },
  {
   "cell_type": "code",
   "execution_count": 12,
   "metadata": {},
   "outputs": [],
   "source": [
    "# replace shop 0 with 57\n",
    "sales.loc[sales.shop_id == 0, \"shop_id\"] = 57"
   ]
  },
  {
   "cell_type": "markdown",
   "metadata": {},
   "source": [
    "#### Shops 1 and 58"
   ]
  },
  {
   "cell_type": "code",
   "execution_count": 13,
   "metadata": {},
   "outputs": [
    {
     "data": {
      "text/plain": [
       "array([0, 1])"
      ]
     },
     "execution_count": 13,
     "metadata": {},
     "output_type": "execute_result"
    }
   ],
   "source": [
    "# shop 1 ends at 1 date_block_num               \n",
    "sales[sales.shop_id == 1].date_block_num.unique()"
   ]
  },
  {
   "cell_type": "code",
   "execution_count": 14,
   "metadata": {},
   "outputs": [
    {
     "data": {
      "text/plain": [
       "array([ 2,  3,  4,  5,  6,  7,  8,  9, 10, 11, 12, 13, 14, 15, 16, 17, 18,\n",
       "       19, 20, 21, 22, 23, 24, 25, 26, 27, 28, 29, 30, 31, 32, 33])"
      ]
     },
     "execution_count": 14,
     "metadata": {},
     "output_type": "execute_result"
    }
   ],
   "source": [
    "# shop 58 starts at 2 date_block_num\n",
    "sales[sales.shop_id == 58].date_block_num.unique()"
   ]
  },
  {
   "cell_type": "code",
   "execution_count": 15,
   "metadata": {},
   "outputs": [
    {
     "data": {
      "text/plain": [
       "False"
      ]
     },
     "execution_count": 15,
     "metadata": {},
     "output_type": "execute_result"
    }
   ],
   "source": [
    "# no shop 1 in test set\n",
    "1 in test.shop_id.unique()"
   ]
  },
  {
   "cell_type": "code",
   "execution_count": 16,
   "metadata": {},
   "outputs": [],
   "source": [
    "# replase shop 0 with 58\n",
    "sales.loc[sales.shop_id == 1, \"shop_id\"] = 58"
   ]
  },
  {
   "cell_type": "markdown",
   "metadata": {},
   "source": [
    "#### Shops 10 and 11"
   ]
  },
  {
   "cell_type": "code",
   "execution_count": 17,
   "metadata": {},
   "outputs": [
    {
     "data": {
      "text/plain": [
       "array([25])"
      ]
     },
     "execution_count": 17,
     "metadata": {},
     "output_type": "execute_result"
    }
   ],
   "source": [
    "# shop 11 exists only at 25 date_block_num\n",
    "sales[sales.shop_id == 11].date_block_num.unique()"
   ]
  },
  {
   "cell_type": "code",
   "execution_count": 18,
   "metadata": {
    "scrolled": true
   },
   "outputs": [
    {
     "data": {
      "text/plain": [
       "array([ 0,  1,  2,  3,  4,  5,  6,  7,  8,  9, 10, 11, 12, 13, 14, 15, 16,\n",
       "       17, 18, 19, 20, 21, 22, 23, 24, 26, 27, 28, 29, 30, 31, 32, 33])"
      ]
     },
     "execution_count": 18,
     "metadata": {},
     "output_type": "execute_result"
    }
   ],
   "source": [
    "# no 25 date_block_num for shop 10\n",
    "sales[sales.shop_id == 10].date_block_num.unique()"
   ]
  },
  {
   "cell_type": "code",
   "execution_count": 19,
   "metadata": {},
   "outputs": [
    {
     "data": {
      "text/plain": [
       "False"
      ]
     },
     "execution_count": 19,
     "metadata": {},
     "output_type": "execute_result"
    }
   ],
   "source": [
    "# no shop 11 in test set\n",
    "11 in test.shop_id.unique()"
   ]
  },
  {
   "cell_type": "code",
   "execution_count": 20,
   "metadata": {},
   "outputs": [],
   "source": [
    "# replase shop 11 with 10\n",
    "sales.loc[sales.shop_id == 11, \"shop_id\"] = 10"
   ]
  },
  {
   "cell_type": "code",
   "execution_count": 21,
   "metadata": {},
   "outputs": [],
   "source": [
    "# drop bad shops\n",
    "shops.drop([0, 1, 11], inplace=True)"
   ]
  },
  {
   "cell_type": "markdown",
   "metadata": {},
   "source": [
    "#### Shops featues"
   ]
  },
  {
   "cell_type": "code",
   "execution_count": 22,
   "metadata": {},
   "outputs": [
    {
     "data": {
      "text/plain": [
       "array(['Адыгея', 'Балашиха', 'Волжский', 'Вологда', 'Воронеж', 'Выездная',\n",
       "       'Жуковский', 'Интернет-магазин', 'Казань', 'Калуга', 'Коломна',\n",
       "       'Красноярск', 'Курск', 'Москва', 'Мытищи', 'Н.Новгород',\n",
       "       'Новосибирск', 'Омск', 'РостовНаДону', 'СПб', 'Самара', 'Сергиев',\n",
       "       'Сургут', 'Томск', 'Тюмень', 'Уфа', 'Химки', 'Цифровой', 'Чехов',\n",
       "       'Якутск', 'Ярославль'], dtype=object)"
      ]
     },
     "execution_count": 22,
     "metadata": {},
     "output_type": "execute_result"
    }
   ],
   "source": [
    "# First part of shop_name is city\n",
    "shops.shop_name.str.split().apply(lambda x: x[0]).unique()"
   ]
  },
  {
   "cell_type": "code",
   "execution_count": 23,
   "metadata": {},
   "outputs": [],
   "source": [
    "shops['city'] = shops.shop_name.str.split().apply(lambda x: x[0])"
   ]
  },
  {
   "cell_type": "code",
   "execution_count": 24,
   "metadata": {},
   "outputs": [],
   "source": [
    "# There are four spetial cases:\n",
    "#       'Выездная Торговля' =        non-shop trading 9\n",
    "#       'Распродажа' =               sale 20\n",
    "#       'Интернет-магазин' =         internet shop 12\n",
    "#       'Цифровой склад 1С-Онлайн' = central stock 55\n",
    "shops['trading'] = False\n",
    "shops.loc[9, 'trading'] = True\n",
    "shops['sale'] = False\n",
    "shops.loc[20, 'sale'] = True\n",
    "shops['i_shop'] = False\n",
    "shops.loc[12, 'i_shop'] = True\n",
    "shops['c_shop'] = False\n",
    "shops.loc[55, 'c_shop'] = True"
   ]
  },
  {
   "cell_type": "code",
   "execution_count": 25,
   "metadata": {},
   "outputs": [
    {
     "name": "stdout",
     "output_type": "stream",
     "text": [
      "<class 'pandas.core.frame.DataFrame'>\n",
      "Int64Index: 57 entries, 2 to 59\n",
      "Data columns (total 6 columns):\n",
      "shop_id    57 non-null int8\n",
      "city       57 non-null int8\n",
      "trading    57 non-null bool\n",
      "sale       57 non-null bool\n",
      "i_shop     57 non-null bool\n",
      "c_shop     57 non-null bool\n",
      "dtypes: bool(4), int8(2)\n",
      "memory usage: 3.3 KB\n"
     ]
    }
   ],
   "source": [
    "# Drop, encode and downcast\n",
    "shops.drop(\"shop_name\", axis=1, inplace=True)\n",
    "shops.city = preprocessing.LabelEncoder().fit_transform(shops.city)\n",
    "shops = downcaster(shops)\n",
    "shops.info()"
   ]
  },
  {
   "cell_type": "markdown",
   "metadata": {},
   "source": [
    "## Items"
   ]
  },
  {
   "cell_type": "code",
   "execution_count": 26,
   "metadata": {},
   "outputs": [
    {
     "name": "stdout",
     "output_type": "stream",
     "text": [
      "<class 'pandas.core.frame.DataFrame'>\n",
      "RangeIndex: 22170 entries, 0 to 22169\n",
      "Data columns (total 2 columns):\n",
      "item_id             22170 non-null int16\n",
      "item_category_id    22170 non-null int8\n",
      "dtypes: int16(1), int8(1)\n",
      "memory usage: 65.0 KB\n"
     ]
    }
   ],
   "source": [
    "# Drop, encode and downcast\n",
    "items.drop(\"item_name\", axis=1, inplace=True)\n",
    "items = downcaster(items)\n",
    "items.info()"
   ]
  },
  {
   "cell_type": "markdown",
   "metadata": {},
   "source": [
    "## Make sales like Test"
   ]
  },
  {
   "cell_type": "code",
   "execution_count": 27,
   "metadata": {},
   "outputs": [],
   "source": [
    "# Aggregate\n",
    "state_columns = [\"date_block_num\", \"shop_id\", \"item_id\"]\n",
    "sales.drop(\"item_price\", axis=1, inplace=True)\n",
    "sales = sales.groupby(state_columns, as_index=False).sum()"
   ]
  },
  {
   "cell_type": "code",
   "execution_count": 28,
   "metadata": {},
   "outputs": [],
   "source": [
    "# Rename target\n",
    "new_columns = sales.columns.tolist()\n",
    "new_columns[-1] = \"y\"\n",
    "sales.columns = new_columns"
   ]
  },
  {
   "cell_type": "code",
   "execution_count": 29,
   "metadata": {},
   "outputs": [
    {
     "data": {
      "text/plain": [
       "(5100, 42, True)"
      ]
     },
     "execution_count": 29,
     "metadata": {},
     "output_type": "execute_result"
    }
   ],
   "source": [
    "# Test set consists of 5100 items for 42 shops\n",
    "(\n",
    "    len(test.item_id.unique()), \n",
    "    len(test.shop_id.unique()), \n",
    "    len(test.item_id.unique()) * (len(test.shop_id.unique())) == len(test)\n",
    ")"
   ]
  },
  {
   "cell_type": "code",
   "execution_count": 30,
   "metadata": {},
   "outputs": [
    {
     "data": {
      "text/plain": [
       "(21807, 57)"
      ]
     },
     "execution_count": 30,
     "metadata": {},
     "output_type": "execute_result"
    }
   ],
   "source": [
    "# Sale set consists of 21807 items for 57 shops\n",
    "len(sales.item_id.unique()), len(sales.shop_id.unique())"
   ]
  },
  {
   "cell_type": "code",
   "execution_count": 31,
   "metadata": {},
   "outputs": [
    {
     "data": {
      "text/plain": [
       "363"
      ]
     },
     "execution_count": 31,
     "metadata": {},
     "output_type": "execute_result"
    }
   ],
   "source": [
    "# There are new items in test set\n",
    "len(set(test.item_id.unique()) - set(sales.item_id.unique()))"
   ]
  },
  {
   "cell_type": "code",
   "execution_count": 32,
   "metadata": {},
   "outputs": [],
   "source": [
    "# Let's make training set like test set - add all sold items to every working shop for every date_block_num\n",
    "all_states = []\n",
    "for num in sorted(sales.date_block_num.unique()):\n",
    "    month_sales = sales.loc[sales.date_block_num == num]\n",
    "    test_combinations = itertools.product(\n",
    "        [num],\n",
    "        sorted(month_sales.shop_id.unique()),\n",
    "        sorted(test.item_id.unique())\n",
    "    )\n",
    "    all_states.extend(list(test_combinations))\n",
    "data = pd.DataFrame(\n",
    "    all_states,\n",
    "    columns=state_columns\n",
    ")\n",
    "data = data.merge(sales, on=state_columns, how=\"left\")\n",
    "data.y = data.y.fillna(0)"
   ]
  },
  {
   "cell_type": "code",
   "execution_count": 33,
   "metadata": {},
   "outputs": [
    {
     "name": "stdout",
     "output_type": "stream",
     "text": [
      "<class 'pandas.core.frame.DataFrame'>\n",
      "Int64Index: 8088600 entries, 0 to 8088599\n",
      "Data columns (total 4 columns):\n",
      "date_block_num    int8\n",
      "shop_id           int8\n",
      "item_id           int16\n",
      "y                 float32\n",
      "dtypes: float32(1), int16(1), int8(2)\n",
      "memory usage: 123.4 MB\n"
     ]
    }
   ],
   "source": [
    "# downcast and clip to [0, 20]\n",
    "data.loc[:, \"y\"] = data.y.clip(0, 20)\n",
    "data = downcaster(data)\n",
    "data.info()"
   ]
  },
  {
   "cell_type": "markdown",
   "metadata": {},
   "source": [
    "## Stack Sales and Test"
   ]
  },
  {
   "cell_type": "code",
   "execution_count": 34,
   "metadata": {},
   "outputs": [],
   "source": [
    "# add date_block_num to test\n",
    "test_date_block = data.date_block_num.max() + 1\n",
    "test[\"date_block_num\"] = test_date_block\n",
    "test = downcaster(test)"
   ]
  },
  {
   "cell_type": "code",
   "execution_count": 35,
   "metadata": {},
   "outputs": [],
   "source": [
    "# stack train and test data\n",
    "data = pd.concat([data, test], axis=0, sort=False)"
   ]
  },
  {
   "cell_type": "markdown",
   "metadata": {},
   "source": [
    "## Merge all data"
   ]
  },
  {
   "cell_type": "code",
   "execution_count": 36,
   "metadata": {},
   "outputs": [],
   "source": [
    "data = data.merge(shops, how=\"left\", on=\"shop_id\")\n",
    "data = data.merge(items, how=\"left\", on=\"item_id\")\n",
    "data = data.merge(cat, how=\"left\", on=\"item_category_id\")"
   ]
  },
  {
   "cell_type": "code",
   "execution_count": 37,
   "metadata": {},
   "outputs": [],
   "source": [
    "# Drop constant features\n",
    "data = data.loc[:, data.nunique() != 1]"
   ]
  },
  {
   "cell_type": "markdown",
   "metadata": {},
   "source": [
    "# Feature generation"
   ]
  },
  {
   "cell_type": "markdown",
   "metadata": {},
   "source": [
    "### Seasonality"
   ]
  },
  {
   "cell_type": "code",
   "execution_count": 38,
   "metadata": {},
   "outputs": [],
   "source": [
    "montly_agg = data.groupby(\"date_block_num\")[\"y\"].sum().iloc[:-1]"
   ]
  },
  {
   "cell_type": "code",
   "execution_count": 39,
   "metadata": {
    "scrolled": true
   },
   "outputs": [
    {
     "data": {
      "text/plain": [
       "<matplotlib.axes._subplots.AxesSubplot at 0x10e7ba668>"
      ]
     },
     "execution_count": 39,
     "metadata": {},
     "output_type": "execute_result"
    },
    {
     "data": {
      "image/png": "[encoded data removed]",
      "text/plain": [
       "<Figure size 432x288 with 1 Axes>"
      ]
     },
     "metadata": {
      "needs_background": "light"
     },
     "output_type": "display_data"
    }
   ],
   "source": [
    "# Seasonality\n",
    "montly_agg.plot()"
   ]
  },
  {
   "cell_type": "code",
   "execution_count": 40,
   "metadata": {},
   "outputs": [],
   "source": [
    "# Add month feature\n",
    "data[\"month\"] = data.date_block_num % 12"
   ]
  },
  {
   "cell_type": "code",
   "execution_count": 41,
   "metadata": {},
   "outputs": [],
   "source": [
    "# Add NY feature\n",
    "data[\"NY\"] = data[\"month\"] == 11"
   ]
  },
  {
   "cell_type": "code",
   "execution_count": 42,
   "metadata": {
    "scrolled": true
   },
   "outputs": [
    {
     "data": {
      "text/plain": [
       "(-2.3274906760427663,\n",
       " 0.1632548907098001,\n",
       " 0,\n",
       " 33,\n",
       " {'1%': -3.6461350877925254,\n",
       "  '5%': -2.954126991123355,\n",
       "  '10%': -2.6159676124885216},\n",
       " 499.9685532749338)"
      ]
     },
     "execution_count": 42,
     "metadata": {},
     "output_type": "execute_result"
    }
   ],
   "source": [
    "# Weak sign of unit root\n",
    "sm.tsa.stattools.adfuller(montly_agg)"
   ]
  },
  {
   "cell_type": "code",
   "execution_count": 43,
   "metadata": {},
   "outputs": [
    {
     "data": {
      "image/png": "[encoded data removed]",
      "text/plain": [
       "<Figure size 432x288 with 1 Axes>"
      ]
     },
     "metadata": {
      "needs_background": "light"
     },
     "output_type": "display_data"
    }
   ],
   "source": [
    "_ = sm.graphics.tsaplots.plot_acf(montly_agg, lags=13)"
   ]
  },
  {
   "cell_type": "code",
   "execution_count": 44,
   "metadata": {},
   "outputs": [],
   "source": [
    "def make_lags(df, lag_col_name, lags):\n",
    "    for i in sorted(lags):\n",
    "        lagger = df[state_columns + [lag_col_name]]\n",
    "        lagger.loc[:, \"date_block_num\"] = lagger[\"date_block_num\"] + i\n",
    "        lagger.columns = lagger.columns[:-1].tolist() + [f\"{lag_col_name}_{i}\"]\n",
    "        df = df.merge(lagger, on=state_columns, how='left')\n",
    "    return df"
   ]
  },
  {
   "cell_type": "code",
   "execution_count": 45,
   "metadata": {},
   "outputs": [
    {
     "name": "stderr",
     "output_type": "stream",
     "text": [
      "/Users/WLMike/Documents/PycharmProjects/How_to_Win_Kagglers/.venv/lib/python3.7/site-packages/pandas/core/indexing.py:543: SettingWithCopyWarning: \n",
      "A value is trying to be set on a copy of a slice from a DataFrame.\n",
      "Try using .loc[row_indexer,col_indexer] = value instead\n",
      "\n",
      "See the caveats in the documentation: http://pandas.pydata.org/pandas-docs/stable/indexing.html#indexing-view-versus-copy\n",
      "  self.obj[item] = s\n"
     ]
    }
   ],
   "source": [
    "# Add some lags and diff\n",
    "data = make_lags(data, \"y\", [1, 2, 3, 4, 5, 6])"
   ]
  },
  {
   "cell_type": "markdown",
   "metadata": {},
   "source": [
    "## Save processed data"
   ]
  },
  {
   "cell_type": "code",
   "execution_count": 46,
   "metadata": {},
   "outputs": [],
   "source": [
    "processed_path = f\"./processed_data/data_{__ver__}.pickle\"\n",
    "data.to_pickle(processed_path)"
   ]
  },
  {
   "cell_type": "markdown",
   "metadata": {},
   "source": [
    "## Load processed data"
   ]
  },
  {
   "cell_type": "code",
   "execution_count": 58,
   "metadata": {},
   "outputs": [],
   "source": [
    "data = pd.read_pickle(processed_path)"
   ]
  },
  {
   "cell_type": "markdown",
   "metadata": {},
   "source": [
    "## Validation strategies"
   ]
  },
  {
   "cell_type": "markdown",
   "metadata": {},
   "source": [
    "Validation strategy:\n",
    "\n",
    "* Train - all months except last one in the training set\n",
    "* Validate - a last month in the training set\n",
    "* Test - a test set"
   ]
  },
  {
   "cell_type": "code",
   "execution_count": 59,
   "metadata": {},
   "outputs": [],
   "source": [
    "# Drop bad features\n",
    "data.drop([\"sale\", \"i_shop\", \"c_shop\", \"trading\", \"city\", \"month\"], axis=1, inplace=True)\n",
    "l2_leaf_reg = 6"
   ]
  },
  {
   "cell_type": "code",
   "execution_count": 60,
   "metadata": {},
   "outputs": [],
   "source": [
    "val_range = 1\n",
    "\n",
    "x_train = data[data.date_block_num < test_date_block - val_range].drop(\"y\", axis=1)\n",
    "y_train = data.loc[data.date_block_num < test_date_block - val_range, \"y\"]\n",
    "\n",
    "mask = (test_date_block - val_range <= data.date_block_num) & (data.date_block_num < test_date_block)\n",
    "x_valid = data[mask].drop(\"y\", axis=1)\n",
    "y_valid = data.loc[mask, \"y\"]\n",
    "\n",
    "x_test = data[data.date_block_num == test_date_block].drop(\"y\", axis=1)"
   ]
  },
  {
   "cell_type": "code",
   "execution_count": 61,
   "metadata": {},
   "outputs": [
    {
     "name": "stdout",
     "output_type": "stream",
     "text": [
      "<class 'pandas.core.frame.DataFrame'>\n",
      "Int64Index: 7864200 entries, 0 to 7864199\n",
      "Data columns (total 13 columns):\n",
      "date_block_num      int8\n",
      "shop_id             int8\n",
      "item_id             int16\n",
      "item_category_id    int8\n",
      "category_group      int8\n",
      "sub_category        int8\n",
      "NY                  bool\n",
      "y_1                 float32\n",
      "y_2                 float32\n",
      "y_3                 float32\n",
      "y_4                 float32\n",
      "y_5                 float32\n",
      "y_6                 float32\n",
      "dtypes: bool(1), float32(6), int16(1), int8(5)\n",
      "memory usage: 300.0 MB\n"
     ]
    }
   ],
   "source": [
    "x_train.info()"
   ]
  },
  {
   "cell_type": "code",
   "execution_count": 62,
   "metadata": {},
   "outputs": [
    {
     "data": {
      "text/plain": [
       "[0, 1, 2, 3, 4, 5, 6]"
      ]
     },
     "execution_count": 62,
     "metadata": {},
     "output_type": "execute_result"
    }
   ],
   "source": [
    "cat_columns = [i for i, col in enumerate(x_train) if not issubclass(x_train[col].dtype.type, np.floating)]\n",
    "cat_columns"
   ]
  },
  {
   "cell_type": "code",
   "execution_count": 1,
   "metadata": {
    "scrolled": false
   },
   "outputs": [
    {
     "ename": "NameError",
     "evalue": "name 'l2_leaf_reg' is not defined",
     "output_type": "error",
     "traceback": [
      "\u001b[0;31m---------------------------------------------------------------------------\u001b[0m",
      "\u001b[0;31mNameError\u001b[0m                                 Traceback (most recent call last)",
      "\u001b[0;32m<ipython-input-1-1897dda8cdae>\u001b[0m in \u001b[0;36m<module>\u001b[0;34m\u001b[0m\n\u001b[1;32m      7\u001b[0m     \u001b[0miterations\u001b[0m\u001b[0;34m=\u001b[0m\u001b[0;36m200\u001b[0m\u001b[0;34m,\u001b[0m\u001b[0;34m\u001b[0m\u001b[0;34m\u001b[0m\u001b[0m\n\u001b[1;32m      8\u001b[0m     \u001b[0mtask_type\u001b[0m\u001b[0;34m=\u001b[0m\u001b[0;34m\"GPU\"\u001b[0m\u001b[0;34m,\u001b[0m\u001b[0;34m\u001b[0m\u001b[0;34m\u001b[0m\u001b[0m\n\u001b[0;32m----> 9\u001b[0;31m     \u001b[0ml2_leaf_reg\u001b[0m\u001b[0;34m=\u001b[0m\u001b[0ml2_leaf_reg\u001b[0m\u001b[0;34m\u001b[0m\u001b[0;34m\u001b[0m\u001b[0m\n\u001b[0m\u001b[1;32m     10\u001b[0m )\n\u001b[1;32m     11\u001b[0m \u001b[0;34m\u001b[0m\u001b[0m\n",
      "\u001b[0;31mNameError\u001b[0m: name 'l2_leaf_reg' is not defined"
     ]
    }
   ],
   "source": [
    "clf_params = dict(\n",
    "    random_state=284704,\n",
    "    od_type=\"Iter\",\n",
    "    od_wait=20,\n",
    "    verbose=10,\n",
    "    learning_rate=0.1,\n",
    "    iterations=200,\n",
    "    task_type=\"GPU\",\n",
    "    l2_leaf_reg=l2_leaf_reg\n",
    ")\n",
    "\n",
    "if sys.platform == \"darwin\":\n",
    "    del clf_params[\"task_type\"]\n",
    "\n",
    "clf = catboost.CatBoostRegressor(**clf_params)\n",
    "\n",
    "fit_params = dict(\n",
    "    X=x_train, \n",
    "    y=y_train,\n",
    "    cat_features=cat_columns,\n",
    "    eval_set=(x_valid, y_valid),\n",
    "    plot=True\n",
    ")\n",
    "\n",
    "if sys.platform != \"darwin\":\n",
    "    del fit_params[\"plot\"]\n",
    "\n",
    "clf.fit(**fit_params)"
   ]
  },
  {
   "cell_type": "code",
   "execution_count": 2,
   "metadata": {},
   "outputs": [],
   "source": [
    "bestTest = 0.976 # 1.02337"
   ]
  },
  {
   "cell_type": "code",
   "execution_count": 66,
   "metadata": {},
   "outputs": [
    {
     "data": {
      "text/plain": [
       "[('y_1', 36.88218779183184),\n",
       " ('item_id', 15.851736834543551),\n",
       " ('date_block_num', 13.316841716491801),\n",
       " ('shop_id', 11.1534730379435),\n",
       " ('y_2', 7.664870546106049),\n",
       " ('y_3', 3.9561119549236126),\n",
       " ('item_category_id', 2.7161031898545662),\n",
       " ('NY', 2.1979249075698664),\n",
       " ('y_5', 2.161362871382702),\n",
       " ('category_group', 1.1437578427451505),\n",
       " ('sub_category', 1.1021083810906822),\n",
       " ('y_4', 0.9883671283370264),\n",
       " ('y_6', 0.8651537971796525)]"
      ]
     },
     "execution_count": 66,
     "metadata": {},
     "output_type": "execute_result"
    }
   ],
   "source": [
    "clf.get_feature_importance(prettified=True)"
   ]
  },
  {
   "cell_type": "markdown",
   "metadata": {},
   "source": [
    "## Submission"
   ]
  },
  {
   "cell_type": "code",
   "execution_count": 67,
   "metadata": {},
   "outputs": [],
   "source": [
    "sub_df = pd.DataFrame(\n",
    "    clf.predict(x_test), \n",
    "    index=test.index, \n",
    "    columns=[\"item_cnt_month\"]\n",
    ").clip(0, 20)\n",
    "sub_df.index.name = \"ID\""
   ]
  },
  {
   "cell_type": "code",
   "execution_count": 68,
   "metadata": {},
   "outputs": [],
   "source": [
    "sub_path = f\"./submissions/submission_{__ver__}.csv\"\n",
    "sub_df.to_csv(sub_path)"
   ]
  },
  {
   "cell_type": "markdown",
   "metadata": {},
   "source": [
    "## Hyperparameters tuning"
   ]
  },
  {
   "cell_type": "markdown",
   "metadata": {},
   "source": [
    "Only if you don’t have any more ideas or you have spare computational resources"
   ]
  },
  {
   "cell_type": "markdown",
   "metadata": {},
   "source": [
    "Average everything:\n",
    "\n",
    "* Over random seed\n",
    "* Or over small deviations from optimal parameters"
   ]
  },
  {
   "cell_type": "markdown",
   "metadata": {},
   "source": [
    "## Ensembling"
   ]
  },
  {
   "cell_type": "markdown",
   "metadata": {},
   "source": [
    "* Save all good models\n",
    "* Make diverse models"
   ]
  },
  {
   "cell_type": "markdown",
   "metadata": {},
   "source": [
    "* Averaging\n",
    "* Weighted averaging\n",
    "* Bagging (BaggingClassifier and BaggingRegressor from Sklearn, seed bagging)\n",
    "* Boosting (AdaBoostClassifier from Sklearn)\n",
    "* Stacking (Meta model should be modest)\n",
    "* StackNet\n",
    "    - Diversity of base algoritms\n",
    "    - Diversity of base data\n",
    "    - Simpler algoritms on higher levels\n",
    "    - Feature engineering of meta feature (differences, std ...)\n",
    "    - For every level 1model for 5-10 modelesin orivios level"
   ]
  }
 ],
 "metadata": {
  "kernelspec": {
   "display_name": "Python 3",
   "language": "python",
   "name": "python3"
  },
  "language_info": {
   "codemirror_mode": {
    "name": "ipython",
    "version": 3
   },
   "file_extension": ".py",
   "mimetype": "text/x-python",
   "name": "python",
   "nbconvert_exporter": "python",
   "pygments_lexer": "ipython3",
   "version": "3.7.2"
  }
 },
 "nbformat": 4,
 "nbformat_minor": 2
}
